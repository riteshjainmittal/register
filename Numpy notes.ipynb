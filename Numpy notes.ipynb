{
 "cells": [
  {
   "cell_type": "code",
   "execution_count": 1,
   "metadata": {},
   "outputs": [
    {
     "name": "stdout",
     "output_type": "stream",
     "text": [
      "144\n",
      "176\n",
      "[20.1 20.8 21.9 22.5 22.7 22.3 21.8 21.2 20.9 20.1]\n",
      "<class 'numpy.ndarray'>\n",
      "Temprature in degrees Fahrenheit\n",
      "[68.18 69.44 71.42 72.5  72.86 72.14 71.24 70.16 69.62 68.18]\n"
     ]
    }
   ],
   "source": [
    "'''The name is an acronym for \"Numeric Python\" or \n",
    "\"Numerical Python\".It is an extension module for Python, mostly written in C. \n",
    "This makes sure that the precompiled mathematical and numerical functions and \n",
    "functionalities of Numpy guarantee great execution speed.\n",
    "NumPy enriches the programming language Python with powerful data structures, \n",
    "implementing multi-dimensional arrays and matrices. These data structures \n",
    "guarantee efficient calculations with matrices and arrays. The implementation \n",
    "is even aiming at huge matrices and arrays, better know under the heading of \n",
    "\"big data\". Besides that the module supplies a large library of high-level \n",
    "mathematical functions to operate on these matrices and arrays.\n",
    "\n",
    "SciPy (Scientific Python) is often mentioned in the same breath with NumPy. \n",
    "SciPy needs Numpy, as it is based on the data structures of Numpy and \n",
    "furthermore its basic creation and manipulation functions. It extends the \n",
    "capabilities of NumPy with further useful functions for minimization, \n",
    "regression, Fourier-transformation and many others.'''\n",
    "'''Simple Example'''\n",
    "import numpy as np\n",
    "import sys\n",
    "c= [20.1, 20.8, 21.9, 22.5, 22.7, 22.3, 21.8, 21.2, 20.9, 20.1]\n",
    "print(sys.getsizeof(c))\n",
    "TC=np.array(c)\n",
    "print(sys.getsizeof(TC))\n",
    "print(TC)\n",
    "print(type(TC))\n",
    "print(\"Temprature in degrees Fahrenheit\")\n",
    "print(TC*9/5+32)"
   ]
  },
  {
   "cell_type": "code",
   "execution_count": 5,
   "metadata": {},
   "outputs": [
    {
     "name": "stdout",
     "output_type": "stream",
     "text": [
      "[68.18, 69.44, 71.42, 72.5, 72.86, 72.14, 71.24000000000001, 70.16, 69.62, 68.18]\n"
     ]
    }
   ],
   "source": [
    "'''if we use list then we write code like this'''\n",
    "c= [20.1, 20.8, 21.9, 22.5, 22.7, 22.3, 21.8, 21.2, 20.9, 20.1]\n",
    "f=[x*9/5+32 for x in c]\n",
    "print(f)\n"
   ]
  },
  {
   "cell_type": "code",
   "execution_count": 5,
   "metadata": {},
   "outputs": [
    {
     "data": {
      "image/png": "[encoded data removed]",
      "text/plain": [
       "<Figure size 432x288 with 1 Axes>"
      ]
     },
     "metadata": {
      "needs_background": "light"
     },
     "output_type": "display_data"
    }
   ],
   "source": [
    "'''Graphical Representation of the Values'''\n",
    "import matplotlib.pyplot as plt\n",
    "plt.plot(TC)\n",
    "plt.show()"
   ]
  },
  {
   "cell_type": "code",
   "execution_count": 10,
   "metadata": {},
   "outputs": [
    {
     "name": "stdout",
     "output_type": "stream",
     "text": [
      "Size without the size of the elements:  104\n",
      "Size of all the elements:  140\n",
      "Total size of list, including elements:  244\n"
     ]
    }
   ],
   "source": [
    "'''Memory Consumption: ndarray and list'''\n",
    "import sys\n",
    "l=[1,2,3,4,5]\n",
    "sizeof_list_object=sys.getsizeof(l)\n",
    "sizeof_elements=len(l)*sys.getsizeof(l[0])\n",
    "total=sizeof_list_object+sizeof_elements\n",
    "print(\"Size without the size of the elements: \", sizeof_list_object)\n",
    "print(\"Size of all the elements: \", sizeof_elements)\n",
    "print(\"Total size of list, including elements: \", total)\n",
    "'''The size of a Python list consists of the general list information, the \n",
    "size needed for the references to the elements and the size of all the \n",
    "elements of the list. If we apply sys.getsizeof to a list, we get only the \n",
    "size without the size of the elements.We can conclude from this that for every \n",
    "new element, we need another eight bytes for the reference to the new object.'''\n"
   ]
  },
  {
   "cell_type": "code",
   "execution_count": 14,
   "metadata": {},
   "outputs": [
    {
     "name": "stdout",
     "output_type": "stream",
     "text": [
      "116\n",
      "96\n",
      "3\n",
      "6\n",
      "12\n",
      "24\n"
     ]
    }
   ],
   "source": [
    "import sys\n",
    "l=[1,2,3,4,5]\n",
    "arr=np.array(l)\n",
    "print(sys.getsizeof(arr))\n",
    "arr=np.array([])\n",
    "print(sys.getsizeof(arr))\n",
    "a = np.array([24, 12, 57], np.int8)\n",
    "print(sys.getsizeof(a) - 96)\n",
    "a = np.array([24, 12, 57], np.int16)\n",
    "print(sys.getsizeof(a) - 96)\n",
    "a = np.array([24, 12, 57], np.int32)\n",
    "print(sys.getsizeof(a) - 96)\n",
    "a = np.array([24, 12, 57], np.int64)\n",
    "print(sys.getsizeof(a) - 96)"
   ]
  },
  {
   "cell_type": "code",
   "execution_count": 1,
   "metadata": {},
   "outputs": [
    {
     "name": "stdout",
     "output_type": "stream",
     "text": [
      "3.395111322402954 0.06254410743713379\n",
      "Numpy is in this example 54.283472280990665 faster!\n"
     ]
    }
   ],
   "source": [
    "'''Time Comparison between Python Lists and Numpy Arrays'''\n",
    "import time\n",
    "import numpy as np\n",
    "size_of_vec = 10000000\n",
    "def pure_python_version():\n",
    "    t1 = time.time()\n",
    "    X = range(size_of_vec)\n",
    "    Y = range(size_of_vec)\n",
    "    Z = [X[i] + Y[i] for i in range(len(X)) ]\n",
    "    return time.time() - t1\n",
    "def numpy_version():\n",
    "    t1 = time.time()\n",
    "    X = np.arange(size_of_vec)\n",
    "    Y = np.arange(size_of_vec)\n",
    "    Z = X + Y\n",
    "    return time.time() - t1\n",
    "t1 = pure_python_version()\n",
    "t2 = numpy_version()\n",
    "print(t1, t2)\n",
    "print(\"Numpy is in this example \" + str(t1/t2) + \" faster!\")"
   ]
  },
  {
   "cell_type": "code",
   "execution_count": 3,
   "metadata": {},
   "outputs": [
    {
     "name": "stdout",
     "output_type": "stream",
     "text": [
      "[0 1 2 3 4 5 6 7 8 9]\n",
      "<class 'numpy.ndarray'>\n"
     ]
    }
   ],
   "source": [
    "arr=np.arange(10)\n",
    "print(arr)\n",
    "print(type(arr))"
   ]
  },
  {
   "cell_type": "code",
   "execution_count": 1,
   "metadata": {},
   "outputs": [
    {
     "name": "stdout",
     "output_type": "stream",
     "text": [
      "[10 11 12 13 14 15 16 17 18 19 20]\n",
      "11\n",
      "<class 'numpy.ndarray'>\n"
     ]
    }
   ],
   "source": [
    "import numpy as np\n",
    "arr=np.arange(10,21)\n",
    "print(arr)\n",
    "print(type(arr))"
   ]
  },
  {
   "cell_type": "code",
   "execution_count": 5,
   "metadata": {},
   "outputs": [
    {
     "name": "stdout",
     "output_type": "stream",
     "text": [
      "[10 13 16 19]\n",
      "<class 'numpy.ndarray'>\n"
     ]
    }
   ],
   "source": [
    "arr=np.arange(10,20,3)\n",
    "print(arr)\n",
    "print(type(arr))"
   ]
  },
  {
   "cell_type": "code",
   "execution_count": 2,
   "metadata": {},
   "outputs": [
    {
     "name": "stdout",
     "output_type": "stream",
     "text": [
      "[10.  10.8 11.6 12.4 13.2 14.  14.8 15.6 16.4 17.2 18.  18.8 19.6 20.4]\n",
      "14\n",
      "<class 'numpy.ndarray'>\n"
     ]
    }
   ],
   "source": [
    "import numpy as np\n",
    "arr=np.arange(10,21,.8)\n",
    "print(arr)\n",
    "print(len(arr))\n",
    "print(type(arr))"
   ]
  },
  {
   "cell_type": "code",
   "execution_count": 3,
   "metadata": {},
   "outputs": [
    {
     "name": "stdout",
     "output_type": "stream",
     "text": [
      "[10 10 10 10 10 10 10 10 10 10 10 10 10 10]\n",
      "14\n",
      "<class 'numpy.ndarray'>\n"
     ]
    }
   ],
   "source": [
    "arr=np.arange(10,21,.8,int)\n",
    "print(arr)\n",
    "print(len(arr))\n",
    "print(type(arr))"
   ]
  },
  {
   "cell_type": "code",
   "execution_count": 12,
   "metadata": {},
   "outputs": [
    {
     "name": "stdout",
     "output_type": "stream",
     "text": [
      "[ 0.5  1.3  2.1  2.9  3.7  4.5  5.3  6.1  6.9  7.7  8.5  9.3 10.1]\n",
      "<class 'numpy.ndarray'>\n"
     ]
    }
   ],
   "source": [
    "arr=np.arange(0.5,10.4,0.8)\n",
    "print(arr)\n",
    "print(type(arr))"
   ]
  },
  {
   "cell_type": "code",
   "execution_count": 13,
   "metadata": {},
   "outputs": [
    {
     "name": "stdout",
     "output_type": "stream",
     "text": [
      "[ 0  1  2  3  4  5  6  7  8  9 10 11 12]\n",
      "<class 'numpy.ndarray'>\n"
     ]
    }
   ],
   "source": [
    "arr=np.arange(0.5,10.4,0.8,int)\n",
    "print(arr)\n",
    "print(type(arr))"
   ]
  },
  {
   "cell_type": "code",
   "execution_count": 1,
   "metadata": {},
   "outputs": [
    {
     "name": "stdout",
     "output_type": "stream",
     "text": [
      "[1 2 3 4 5 6 7 8 9]\n",
      "range(1, 10)\n",
      "[1, 2, 3, 4, 5, 6, 7, 8, 9]\n",
      "[ 0.  1.  2.  3.  4.  5.  6.  7.  8.  9. 10.]\n",
      "[ 0.5  1.3  2.1  2.9  3.7  4.5  5.3  6.1  6.9  7.7  8.5  9.3 10.1]\n",
      "[ 0  1  2  3  4  5  6  7  8  9 10 11 12]\n"
     ]
    }
   ],
   "source": [
    "'''Creation of Arrays with Evenly Spaced Values\n",
    "arange\n",
    "The syntax of arange:\n",
    "arange([start,] stop[, step], [, dtype=None])\n",
    "arange returns evenly spaced values within a given interval. The values are \n",
    "generated within the half-open interval '[start, stop)' If the function is \n",
    "used with integers, it is nearly equivalent to the Python built-in function \n",
    "range, but arange returns an ndarray rather than a list iterator as range \n",
    "does. If the 'start' parameter is not given, it will be set to 0. The end of \n",
    "the interval is determined by the parameter 'stop'. Usually, the interval \n",
    "will not include this value, except in some cases where 'step' is not an \n",
    "integer and floating point round-off affects the length of output ndarray. \n",
    "The spacing between two adjacent values of the output array is set with the \n",
    "optional parameter 'step'. The default value for 'step' is 1. If the \n",
    "parameter 'step' is given, the 'start' parameter cannot be optional, i.e. \n",
    "it has to be given as well. The type of the output array can be specified \n",
    "with the parameter 'dtype'. If it is not given, the type will be automatically \n",
    "inferred from the other input arguments.'''\n",
    "import numpy as np\n",
    "a = np.arange(1, 10)\n",
    "print(a)\n",
    "x = range(1, 10)\n",
    "print(x)    # x is an iterator\n",
    "print(list(x))\n",
    "x = np.arange(10.4)\n",
    "print(x)\n",
    "x = np.arange(0.5, 10.4, 0.8)\n",
    "print(x)\n",
    "x = np.arange(0.5, 10.4, 0.8, int)\n",
    "print(x)\n"
   ]
  },
  {
   "cell_type": "code",
   "execution_count": 3,
   "metadata": {},
   "outputs": [
    {
     "name": "stdout",
     "output_type": "stream",
     "text": [
      "[ 1.          1.18367347  1.36734694  1.55102041  1.73469388  1.91836735\n",
      "  2.10204082  2.28571429  2.46938776  2.65306122  2.83673469  3.02040816\n",
      "  3.20408163  3.3877551   3.57142857  3.75510204  3.93877551  4.12244898\n",
      "  4.30612245  4.48979592  4.67346939  4.85714286  5.04081633  5.2244898\n",
      "  5.40816327  5.59183673  5.7755102   5.95918367  6.14285714  6.32653061\n",
      "  6.51020408  6.69387755  6.87755102  7.06122449  7.24489796  7.42857143\n",
      "  7.6122449   7.79591837  7.97959184  8.16326531  8.34693878  8.53061224\n",
      "  8.71428571  8.89795918  9.08163265  9.26530612  9.44897959  9.63265306\n",
      "  9.81632653 10.        ]\n",
      "[ 1.   2.5  4.   5.5  7.   8.5 10. ]\n",
      "[1.         2.28571429 3.57142857 4.85714286 6.14285714 7.42857143\n",
      " 8.71428571]\n"
     ]
    }
   ],
   "source": [
    "'''linspace\n",
    "The syntax of linspace:\n",
    "linspace(start, stop, num=50, endpoint=True, retstep=False)\n",
    "linspace returns an ndarray, consisting of 'num' equally spaced samples in the \n",
    "closed interval [start, stop] or the half-open interval [start, stop). If a \n",
    "closed or a half-open interval will be returned, depends on whether 'endpoint' \n",
    "is True or False. The parameter 'start' defines the start value of the \n",
    "sequence which will be created. 'stop' will the end value of the sequence, \n",
    "unless 'endpoint' is set to False. In the latter case, the resulting sequence \n",
    "will consist of all but the last of 'num + 1' evenly spaced samples. This \n",
    "means that 'stop' is excluded. Note that the step size changes when 'endpoint' \n",
    "is False. The number of samples to be generated can be set with 'num', which \n",
    "defaults to 50. If the optional parameter 'endpoint' is set to True \n",
    "(the default), 'stop' will be the last sample of the sequence. Otherwise, \n",
    "it is not included.'''\n",
    "import numpy as np\n",
    "# 50 values between 1 and 10:\n",
    "arr=np.linspace(1, 10)\n",
    "print(arr)\n",
    "# 7 values between 1 and 10:\n",
    "print(np.linspace(1, 10, 7))\n",
    "# excluding the endpoint:\n",
    "print(np.linspace(1, 10, num=7, endpoint=False))"
   ]
  },
  {
   "cell_type": "code",
   "execution_count": 3,
   "metadata": {},
   "outputs": [
    {
     "name": "stdout",
     "output_type": "stream",
     "text": [
      "0.1836734693877551\n",
      "0.47368421052631576\n",
      "0.45\n"
     ]
    }
   ],
   "source": [
    "''' If the optional parameter 'retstep' is set, the function will also return \n",
    "the value of the spacing between adjacent values. So, the function will return \n",
    "a tuple ('samples', 'step'):'''\n",
    "import numpy as np\n",
    "samples, spacing = np.linspace(1, 10, retstep=True)\n",
    "print(spacing)\n",
    "samples, spacing = np.linspace(1, 10, 20, endpoint=True, retstep=True)\n",
    "print(spacing)\n",
    "samples, spacing = np.linspace(1, 10, 20, endpoint=False, retstep=True)\n",
    "print(spacing)"
   ]
  },
  {
   "cell_type": "code",
   "execution_count": 4,
   "metadata": {},
   "outputs": [
    {
     "name": "stdout",
     "output_type": "stream",
     "text": [
      "x:  42\n",
      "The type of x:  <class 'numpy.ndarray'>\n",
      "The dimension of x: 0\n"
     ]
    }
   ],
   "source": [
    "'''Zero-dimensional Arrays in Numpy\n",
    "It's possible to create multidimensional arrays in numpy. Scalars are zero \n",
    "dimensional.Applying the ndim method to our scalar, we get the dimension of \n",
    "the array.'''\n",
    "import numpy as np\n",
    "x = np.array(42)\n",
    "print(\"x: \", x)\n",
    "print(\"The type of x: \", type(x))\n",
    "print(\"The dimension of x:\", np.ndim(x))"
   ]
  },
  {
   "cell_type": "code",
   "execution_count": 7,
   "metadata": {},
   "outputs": [
    {
     "name": "stdout",
     "output_type": "stream",
     "text": [
      "F:  [ 1  1  2  3  5  8 13 45 21 34]\n",
      "V:  [ 3.4  6.9 99.8 12.8]\n",
      "Type of F:  int32\n",
      "Type of V:  float64\n",
      "Dimension of F:  1\n",
      "Dimension of V:  1\n"
     ]
    }
   ],
   "source": [
    "'''One-dimensional Arrays\n",
    "Numpy arrays are containers of items of the same type, e.g. only integers. \n",
    "The homogenous type of the array can be determined with the attribute \n",
    "\"dtype\".'''\n",
    "import numpy as np\n",
    "F = np.array([1, 1, 2, 3, 5, 8, 13,45,21,34])\n",
    "V = np.array([3.4, 6.9, 99.8, 12.8])\n",
    "print(\"F: \", F)\n",
    "print(\"V: \", V)\n",
    "print(\"Type of F: \", F.dtype)\n",
    "print(\"Type of V: \", V.dtype)\n",
    "print(\"Dimension of F: \", np.ndim(F))\n",
    "print(\"Dimension of V: \", np.ndim(V))"
   ]
  },
  {
   "cell_type": "code",
   "execution_count": 6,
   "metadata": {},
   "outputs": [
    {
     "name": "stdout",
     "output_type": "stream",
     "text": [
      "[[ 3.4  8.7  9.9]\n",
      " [ 1.1 -7.8 -0.7]\n",
      " [ 4.1 12.3  4.8]]\n",
      "2\n",
      "[[[111 112]\n",
      "  [121 122]]\n",
      "\n",
      " [[211 212]\n",
      "  [221 222]]\n",
      "\n",
      " [[311 312]\n",
      "  [321 322]]]\n",
      "3\n"
     ]
    }
   ],
   "source": [
    "'''Two- and Multidimensional Arrays'''\n",
    "A = np.array([ [3.4, 8.7, 9.9], \n",
    "               [1.1, -7.8, -0.7],\n",
    "               [4.1, 12.3, 4.8]])\n",
    "print(A)\n",
    "print(A.ndim)\n",
    "B = np.array([ [[111, 112], [121, 122]],\n",
    "               [[211, 212], [221, 222]],\n",
    "               [[311, 312], [321, 322]] ])\n",
    "print(B)\n",
    "print(B.ndim)\n"
   ]
  },
  {
   "cell_type": "code",
   "execution_count": 5,
   "metadata": {},
   "outputs": [
    {
     "name": "stdout",
     "output_type": "stream",
     "text": [
      "(6, 3)\n",
      "(6, 3)\n",
      "[[67 63 87 77 69 59]\n",
      " [85 87 99 79 72 71]\n",
      " [63 89 93 68 92 78]]\n",
      "(3, 6)\n",
      "[[67 63 87 77 69 59 85 87 99]\n",
      " [79 72 71 63 89 93 68 92 78]]\n",
      "[[67 63 87 77 69 59 85 87 99 79 72 71 63 89 93 68 92 78]]\n",
      "()\n",
      "(4, 2, 3)\n"
     ]
    }
   ],
   "source": [
    "'''Shape of an Array\n",
    "Shape of a two-dimensional array\n",
    "The function \"shape\" returns the shape of an array. The shape is a tuple of \n",
    "integers. These numbers denote the lengths of the corresponding array \n",
    "dimension. In other words: The \"shape\" of an array is a tuple with the \n",
    "number of elements per axis (dimension). In our example, the shape is equal \n",
    "to (6, 3), i.e. we have 6 lines and 3 columns.'''\n",
    "\n",
    "x = np.array([ [67, 63, 87],\n",
    "               [77, 69, 59],\n",
    "               [85, 87, 99],\n",
    "               [79, 72, 71],\n",
    "               [63, 89, 93],\n",
    "               [68, 92, 78]])\n",
    "print(np.shape(x)) #6,3\n",
    "print(x.shape)     #6,3\n",
    "x.shape = (3, 6)   \n",
    "print(x)\n",
    "print(x.shape)  #3,6\n",
    "x.shape = (2, 9)\n",
    "print(x)\n",
    "x.shape=(1,18)\n",
    "print(x)\n",
    "x = np.array(11)\n",
    "print(np.shape(x)) #()\n",
    "B = np.array([ [[111, 112, 113], [121, 122, 123]],\n",
    "               [[211, 212, 213], [221, 222, 223]],\n",
    "               [[311, 312, 313], [321, 322, 323]],\n",
    "               [[411, 412, 413], [421, 422, 423]] ])\n",
    "print(B.shape)\n"
   ]
  },
  {
   "cell_type": "code",
   "execution_count": 10,
   "metadata": {},
   "outputs": [
    {
     "name": "stdout",
     "output_type": "stream",
     "text": [
      "1\n",
      "21\n",
      "[[1 2 3]\n",
      " [4 5 6]\n",
      " [7 8 9]]\n",
      "[[1 2 3]\n",
      " [4 5 6]\n",
      " [7 8 9]]\n",
      "[[1 2 3]\n",
      " [4 5 6]\n",
      " [7 8 9]]\n",
      "[[1 2 3]\n",
      " [4 5 6]]\n",
      "[[1 2]\n",
      " [4 5]\n",
      " [7 8]]\n",
      "[2 5 8]\n",
      "[[1 2]\n",
      " [4 5]\n",
      " [7 8]]\n"
     ]
    }
   ],
   "source": [
    "'''Indexing and Slicing\n",
    "Assigning to and accessing the elements of an array is similar to other \n",
    "sequential data types of Python, i.e. lists and tuples. We have also many \n",
    "options to indexing, which makes indexing in Numpy very powerful and \n",
    "similar to the indexing of lists and tuples.'''\n",
    "\n",
    "F = np.array([1, 1, 2, 3, 5, 8, 13, 21])\n",
    "# print the first element of F\n",
    "print(F[0])\n",
    "# print the last element of F\n",
    "print(F[-1])\n",
    "np_arr = np.array([ [1,2,3],\n",
    "                    [4,5,6],\n",
    "                    [7,8,9]])\n",
    "print(np_arr[:])        # Display all rows and columns                    \n",
    "print(np_arr[:,:])      # Display all rows and columns\n",
    "print(np_arr[0:3, 0:3]) # Display all rows and columns\n",
    "print(np_arr[0:2])      # Display 0th row & 1st Row and All Columns (Since Columns are not specified)\n",
    "print(np_arr[0:3,0:2])  # Display all rows but only 0th and 1st column i.e (0, 1) exluding 2\n",
    "print(np_arr[:,1])      # Display all rows but only 2nd column \n",
    "print(np_arr[:,0:2])    # Display all rows and 0th and 1st Column"
   ]
  },
  {
   "cell_type": "code",
   "execution_count": 4,
   "metadata": {},
   "outputs": [
    {
     "name": "stdout",
     "output_type": "stream",
     "text": [
      "[2 3 4]\n",
      "[0 1 2 3]\n",
      "[6 7 8 9]\n",
      "[0 1 2 3 4 5 6 7 8 9]\n",
      "[]\n",
      "[0 2 4 6 8]\n",
      "[9 8 7 6 5 4 3 2 1 0]\n"
     ]
    }
   ],
   "source": [
    "import numpy as np\n",
    "S = np.array([0, 1, 2, 3, 4, 5, 6, 7, 8, 9])\n",
    "print(S[2:5])\n",
    "print(S[:4])\n",
    "print(S[6:])\n",
    "print(S[:])\n",
    "print(S[10:15])\n",
    "print(S[::2])\n",
    "print(S[::-1])"
   ]
  },
  {
   "cell_type": "code",
   "execution_count": 2,
   "metadata": {},
   "outputs": [
    {
     "name": "stdout",
     "output_type": "stream",
     "text": [
      "[[13 14 15]\n",
      " [23 24 25]\n",
      " [33 34 35]]\n"
     ]
    }
   ],
   "source": [
    "import numpy as np\n",
    "A = np.array([\n",
    "[11, 12, 13, 14, 15],\n",
    "[21, 22, 23, 24, 25],\n",
    "[31, 32, 33, 34, 35],\n",
    "[41, 42, 43, 44, 45],\n",
    "[51, 52, 53, 54, 55]])\n",
    "print(A[:3, 2:])"
   ]
  },
  {
   "cell_type": "code",
   "execution_count": 18,
   "metadata": {},
   "outputs": [
    {
     "name": "stdout",
     "output_type": "stream",
     "text": [
      "[[41 42 43 44 45]\n",
      " [51 52 53 54 55]]\n"
     ]
    }
   ],
   "source": [
    "print(A[3:, :])"
   ]
  },
  {
   "cell_type": "code",
   "execution_count": 5,
   "metadata": {},
   "outputs": [
    {
     "name": "stdout",
     "output_type": "stream",
     "text": [
      "[15 25 35 45 55]\n"
     ]
    }
   ],
   "source": [
    "print(A[:,4])"
   ]
  },
  {
   "cell_type": "code",
   "execution_count": 4,
   "metadata": {},
   "outputs": [
    {
     "name": "stdout",
     "output_type": "stream",
     "text": [
      "[[15]\n",
      " [25]\n",
      " [35]\n",
      " [45]\n",
      " [55]]\n"
     ]
    }
   ],
   "source": [
    "print(A[:, 4:])"
   ]
  },
  {
   "cell_type": "code",
   "execution_count": 7,
   "metadata": {},
   "outputs": [
    {
     "name": "stdout",
     "output_type": "stream",
     "text": [
      "[[ 0  1  2  3  4  5  6]\n",
      " [ 7  8  9 10 11 12 13]\n",
      " [14 15 16 17 18 19 20]\n",
      " [21 22 23 24 25 26 27]]\n"
     ]
    }
   ],
   "source": [
    "import numpy as np\n",
    "X = np.arange(28).reshape(4,7)\n",
    "print(X)"
   ]
  },
  {
   "cell_type": "code",
   "execution_count": 8,
   "metadata": {},
   "outputs": [
    {
     "name": "stdout",
     "output_type": "stream",
     "text": [
      "[[ 0  3  6]\n",
      " [14 17 20]]\n"
     ]
    }
   ],
   "source": [
    "print(X[::2, ::3])"
   ]
  },
  {
   "cell_type": "code",
   "execution_count": 22,
   "metadata": {},
   "outputs": [
    {
     "name": "stdout",
     "output_type": "stream",
     "text": [
      "[[ 0  3  6]\n",
      " [ 7 10 13]\n",
      " [14 17 20]\n",
      " [21 24 27]]\n"
     ]
    }
   ],
   "source": [
    "print(X[::, ::3])"
   ]
  },
  {
   "cell_type": "code",
   "execution_count": 2,
   "metadata": {},
   "outputs": [
    {
     "data": {
      "text/plain": [
       "array([[[46, 14],\n",
       "        [45, 14]],\n",
       "\n",
       "       [[47, 13],\n",
       "        [48, 15]]])"
      ]
     },
     "execution_count": 2,
     "metadata": {},
     "output_type": "execute_result"
    }
   ],
   "source": [
    "A = np.array(\n",
    "    [ [ [45, 12, 4], [45, 13, 5], [46, 12, 6] ], \n",
    "      [ [46, 14, 4], [45, 14, 5], [46, 11, 5] ], \n",
    "      [ [47, 13, 2], [48, 15, 5], [52, 15, 1] ] ])\n",
    "A[1:3, 0:2,:2]  # equivalent to A[1:3, 0:2, :]"
   ]
  },
  {
   "cell_type": "code",
   "execution_count": 3,
   "metadata": {},
   "outputs": [
    {
     "name": "stdout",
     "output_type": "stream",
     "text": [
      "[ 0  1 22 23  4  5  6  7  8  9]\n",
      "True\n"
     ]
    }
   ],
   "source": [
    "A = np.array([0, 1, 2, 3, 4, 5, 6, 7, 8, 9])\n",
    "S = A[2:6]\n",
    "S[0] = 22\n",
    "S[1] = 23\n",
    "print(A)\n",
    "print(np.may_share_memory(S,A))"
   ]
  },
  {
   "cell_type": "code",
   "execution_count": 25,
   "metadata": {},
   "outputs": [
    {
     "name": "stdout",
     "output_type": "stream",
     "text": [
      "[0, 1, 2, 3, 4, 5, 6, 7, 8, 9]\n"
     ]
    }
   ],
   "source": [
    "lst = [0, 1, 2, 3, 4, 5, 6, 7, 8, 9]\n",
    "lst2 = lst[2:6]\n",
    "lst2[0] = 22\n",
    "lst2[1] = 23\n",
    "print(lst)"
   ]
  },
  {
   "cell_type": "code",
   "execution_count": 26,
   "metadata": {},
   "outputs": [
    {
     "data": {
      "text/plain": [
       "True"
      ]
     },
     "execution_count": 26,
     "metadata": {},
     "output_type": "execute_result"
    }
   ],
   "source": [
    "np.may_share_memory(A, S)"
   ]
  },
  {
   "cell_type": "code",
   "execution_count": 9,
   "metadata": {},
   "outputs": [
    {
     "name": "stdout",
     "output_type": "stream",
     "text": [
      "[ 0  1  2  3  4  5  6  7  8  9 10 11]\n",
      "[[42  1  2  3]\n",
      " [ 4  5  6  7]\n",
      " [ 8  9 10 11]]\n",
      "True\n",
      "[42  1  2  3  4  5  6  7  8  9 10 11]\n"
     ]
    }
   ],
   "source": [
    "A = np.arange(12)\n",
    "print(A)\n",
    "B = A.reshape(3, 4)\n",
    "A[0] = 42\n",
    "print(B)\n",
    "print(np.may_share_memory(A, B))\n",
    "print(A)"
   ]
  },
  {
   "cell_type": "code",
   "execution_count": 30,
   "metadata": {},
   "outputs": [
    {
     "name": "stdout",
     "output_type": "stream",
     "text": [
      "[[1. 1. 1.]\n",
      " [1. 1. 1.]]\n",
      "[[1 1 1 1]\n",
      " [1 1 1 1]\n",
      " [1 1 1 1]]\n"
     ]
    }
   ],
   "source": [
    "'''Creating Arrays with Ones, Zeros and Empty\n",
    "There are two ways of initializing Arrays with Zeros or Ones. The method \n",
    "ones(t) takes a tuple t with the shape of the array and fills the array \n",
    "accordingly with ones. By default it will be filled with Ones of type float. \n",
    "If you need integer Ones, you have to set the optional parameter dtype to int:'''\n",
    "import numpy as np\n",
    "E = np.ones((2,3))\n",
    "print(E)\n",
    "F = np.ones((3,4),dtype=int)\n",
    "print(F)"
   ]
  },
  {
   "cell_type": "code",
   "execution_count": 4,
   "metadata": {},
   "outputs": [
    {
     "name": "stdout",
     "output_type": "stream",
     "text": [
      "[[0 0 0 0]\n",
      " [0 0 0 0]]\n"
     ]
    }
   ],
   "source": [
    "Z = np.zeros((2,4),dtype=int)\n",
    "print(Z)"
   ]
  },
  {
   "cell_type": "code",
   "execution_count": 3,
   "metadata": {},
   "outputs": [
    {
     "name": "stdout",
     "output_type": "stream",
     "text": [
      "[1 1 1 1 1 1]\n",
      "False\n",
      "[0 0 0 0 0 0]\n",
      "[[1.5 2.  3. ]\n",
      " [4.  5.  6. ]\n",
      " [7.  8.  9. ]]\n",
      "[[1. 1. 1.]\n",
      " [1. 1. 1.]\n",
      " [1. 1. 1.]]\n",
      "[[0. 0. 0.]\n",
      " [0. 0. 0.]\n",
      " [0. 0. 0.]]\n"
     ]
    }
   ],
   "source": [
    "import numpy as np\n",
    "x = np.array([2,5,18,0,14,4])\n",
    "E = np.ones_like(x)\n",
    "print(E)\n",
    "print(np.may_share_memory(x,E))\n",
    "Z = np.zeros_like(x)\n",
    "print(Z)\n",
    "x=np.array([[1.5,2,3],[4,5,6],[7,8,9]])\n",
    "print(x)\n",
    "E = np.ones_like(x)\n",
    "print(E)\n",
    "Z = np.zeros_like(x)\n",
    "print(Z)"
   ]
  },
  {
   "cell_type": "code",
   "execution_count": 12,
   "metadata": {},
   "outputs": [
    {
     "data": {
      "text/plain": [
       "array([[  858993459,  1074475827, -1717986918,  1075550617],\n",
       "       [  858993459,  1079571251, -1717986918,  1076468121]])"
      ]
     },
     "execution_count": 12,
     "metadata": {},
     "output_type": "execute_result"
    }
   ],
   "source": [
    "np.empty((2, 4),dtype=int)"
   ]
  },
  {
   "cell_type": "code",
   "execution_count": 13,
   "metadata": {},
   "outputs": [
    {
     "name": "stdout",
     "output_type": "stream",
     "text": [
      "[[1001   22   12]\n",
      " [  44   53   66]]\n",
      "[[42 22 12]\n",
      " [44 53 66]]\n"
     ]
    }
   ],
   "source": [
    "'''Copying Arrays\n",
    "numpy.copy()\n",
    "copy(obj, order='K')\n",
    "Return an array copy of the given object 'obj'.\n",
    "obj->  array_like input data.\n",
    "order->The possible values are {'C', 'F', 'A', 'K'}. This parameter controls \n",
    "the memory layout of  the copy. 'C' means C-order, 'F' means Fortran-order,\n",
    "'A' means 'F' if the object 'obj' is Fortran  contiguous, 'C' otherwise. 'K' \n",
    "means match the layout of 'obj' as closely as possible.'''\n",
    "import numpy as np\n",
    "x = np.array([[42,22,12],[44,53,66]])\n",
    "y = x.copy()\n",
    "x[0,0] = 1001\n",
    "print(x)\n",
    "print(y)\n"
   ]
  },
  {
   "cell_type": "code",
   "execution_count": 14,
   "metadata": {},
   "outputs": [
    {
     "name": "stdout",
     "output_type": "stream",
     "text": [
      "True\n",
      "True\n"
     ]
    }
   ],
   "source": [
    "print(x.flags['C_CONTIGUOUS'])\n",
    "print(y.flags['C_CONTIGUOUS'])"
   ]
  },
  {
   "cell_type": "code",
   "execution_count": 16,
   "metadata": {},
   "outputs": [
    {
     "data": {
      "text/plain": [
       "array([1, 2, 3, 12, list([45, 67])], dtype=object)"
      ]
     },
     "execution_count": 16,
     "metadata": {},
     "output_type": "execute_result"
    }
   ],
   "source": [
    "import numpy as np\n",
    "np.array([1,2,3,12,[45,67]])"
   ]
  },
  {
   "cell_type": "code",
   "execution_count": 17,
   "metadata": {},
   "outputs": [
    {
     "name": "stdout",
     "output_type": "stream",
     "text": [
      "[10 20 30]\n"
     ]
    }
   ],
   "source": [
    "import numpy as np\n",
    "class Container:\n",
    "    def __init__(self, val):\n",
    "        self.myVal = val\n",
    "    def __str__(self):\n",
    "        print(\"Hello\")\n",
    "        return \"%d\"%(self.myVal)\n",
    "    def __repr__(self):\n",
    "        return \"%d\"%(self.myVal)    \n",
    "c0 = Container(10)\n",
    "c1 = Container(20)\n",
    "c2 = Container(30)\n",
    "arr=np.array([c0,c1,c2])\n",
    "print(arr)"
   ]
  },
  {
   "cell_type": "code",
   "execution_count": 6,
   "metadata": {},
   "outputs": [
    {
     "name": "stdout",
     "output_type": "stream",
     "text": [
      "array1 contents:\n",
      "[10 20 30]\n",
      "[10 20 30]\n",
      "array2 contents after deep copy and modifications to it:\n",
      "[1 2 3]\n",
      "array1 contents after deep copy and modifications to array2:\n",
      "[10 20 30]\n"
     ]
    }
   ],
   "source": [
    "import numpy as np\n",
    "class Container:\n",
    "    def __init__(self, val):\n",
    "        self.myVal = val\n",
    "    def __str__(self):\n",
    "        print(\"Hello\")\n",
    "        return \"%d\"%(self.myVal)\n",
    "    def __repr__(self):\n",
    "        return \"%d\"%(self.myVal)    \n",
    "c0 = Container(10)\n",
    "c1 = Container(20)\n",
    "c2 = Container(30)\n",
    "array1 = np.ndarray(3, dtype='object')\n",
    "array1[0] = c0\n",
    "array1[1] = c1\n",
    "array1[2] = c2\n",
    "print(\"array1 contents:\")\n",
    "print(array1)\n",
    "array2      = np.ndarray(3, dtype='object')\n",
    "array2[:] = array1\n",
    "print(array2)\n",
    "array2[0]   = 1\n",
    "array2[1]   = 2\n",
    "array2[2]   = 3\n",
    "print(\"array2 contents after deep copy and modifications to it:\")\n",
    "print(array2)\n",
    "print(\"array1 contents after deep copy and modifications to array2:\")\n",
    "print(array1)"
   ]
  },
  {
   "cell_type": "code",
   "execution_count": 14,
   "metadata": {},
   "outputs": [
    {
     "data": {
      "text/plain": [
       "array([[1, 0, 0, 0, 0],\n",
       "       [0, 1, 0, 0, 0],\n",
       "       [0, 0, 1, 0, 0],\n",
       "       [0, 0, 0, 1, 0],\n",
       "       [0, 0, 0, 0, 1]])"
      ]
     },
     "execution_count": 14,
     "metadata": {},
     "output_type": "execute_result"
    }
   ],
   "source": [
    "'''Identity Array\n",
    "In linear algebra, the identity matrix, or unit matrix, of size n is the n × n square \n",
    "matrix with ones on the main diagonal and zeros elsewhere.There are two ways in Numpy \n",
    "to create identity arrays:\n",
    "a. identy\n",
    "b. eye\n",
    "The identity Function\n",
    "We can create identity arrays with the function identity:\n",
    "identity(n, dtype=None)\n",
    "The parameters:\n",
    "n->An integer number defining the number of rows and columns of the output, i.e. 'n' x 'n'\n",
    "dtype->An optional argument, defining the data-type of the output. The default is 'float'\n",
    "The output of identity is an 'n' x 'n' array with its main diagonal set to one, and \n",
    "all other elements are 0.'''\n",
    "import numpy as np\n",
    "np.identity(5,dtype=int)"
   ]
  },
  {
   "cell_type": "code",
   "execution_count": 6,
   "metadata": {},
   "outputs": [
    {
     "name": "stdout",
     "output_type": "stream",
     "text": [
      "[[0 0 0 0 0 0 0 0]\n",
      " [1 0 0 0 0 0 0 0]\n",
      " [0 1 0 0 0 0 0 0]\n",
      " [0 0 1 0 0 0 0 0]\n",
      " [0 0 0 1 0 0 0 0]]\n"
     ]
    }
   ],
   "source": [
    "'''The eye Function\n",
    "Another way to create identity arrays provides the function eye. \n",
    "This function creates also diagonal arrays consisting solely of ones.\n",
    "It returns a 2-D array with ones on the diagonal and zeros elsewhere.\n",
    "eye(N, M=None, k=0, dtype=float)\n",
    "Parameter->Meaning\n",
    "N->An integer number defining the rows of the output array.\n",
    "M->An optional integer for setting the number of columns in the output. If \n",
    "   it is None, it defaults to 'N'.\n",
    "k->Defining the position of the diagonal. The default is 0. 0 refers to the \n",
    "  main diagonal.A positive value refers to an upper diagonal, and a negative \n",
    "  value to a lower diagonal.\n",
    "dtype->Optional data-type of the returned array.'''\n",
    "\n",
    "import numpy as np\n",
    "arr=np.eye(5, 8, k=-1, dtype=int)\n",
    "print(arr)"
   ]
  },
  {
   "cell_type": "code",
   "execution_count": 11,
   "metadata": {},
   "outputs": [
    {
     "name": "stdout",
     "output_type": "stream",
     "text": [
      "int16\n",
      "[[ 3  8  9]\n",
      " [ 1 -7  0]\n",
      " [ 4 12  4]]\n"
     ]
    }
   ],
   "source": [
    "'''Data Type Objects, dtype\n",
    "The data type object 'dtype' is an instance of numpy.dtype class. It can be \n",
    "created with numpy.dtype. These numpy arrays contained solely homogenous data \n",
    "types. dtype objects are construed by combinations of fundamental data types. \n",
    "With the aid of dtype we are capable to create \"Structured Arrays\", - \n",
    "also known as \"Record Arrays\". \n",
    "The structured arrays provide us with the ability to have different data \n",
    "types per column. It has similarity to the structure of excel or csv \n",
    "documents. This makes it possibe to define data like the one in the \n",
    "following table with dtype: |Country| Population Density | Area | nbsp;    \n",
    "Population | |------------|----------:|----:|----:| \n",
    "                            |Netherlands |\t393 |\t41526 |\t16,928,800 | \n",
    "|Belgium |337 |\t30510\t|11,007,020| \n",
    "|United Kingdom |256 |\t243610 |\t62,262,000| \n",
    "|Germany |233 |\t357021 |\t81,799,600 | \n",
    "|Liechtenstein | 205 |\t160 |32,842| \n",
    "|Italy |\t192 |\t301230 |\t59,715,625| \n",
    "|Switzerland |\t177 |\t41290 |\t7,301,994 | \n",
    "|Luxembourg |\t173 |\t2586 |\t512,000| \n",
    "|France |\t111 |\t547030 |\t63,601,002| \n",
    "|Austria |\t97 |\t83858 |\t8,169,929| |\n",
    "Greece |\t81 |\t131940 |\t11,606,813| \n",
    "|Ireland |\t65 |\t70280 |\t4,581,269| \n",
    "|Sweden |\t20 | 449964 | 9,515,744| \n",
    "|Finland |\t16 |\t338424 |\t5,410,233| \n",
    "|Norway |\t13 |\t385252 |\t5,033,675| '''\n",
    "import numpy as np\n",
    "i16 = np.dtype(np.int16)\n",
    "print(i16)\n",
    "lst = [ [3.4, 8.7, 9.9], \n",
    "        [1.1, -7.8, -0.7],\n",
    "        [4.1, 12.3, 4.8] ]\n",
    "A = np.array(lst, dtype=i16)\n",
    "print(A)"
   ]
  },
  {
   "cell_type": "code",
   "execution_count": 26,
   "metadata": {},
   "outputs": [
    {
     "name": "stdout",
     "output_type": "stream",
     "text": [
      "[(1, b'Shaan') (2, b'Sakshi') (3, b'Arpit')]\n",
      "[1 2 3]\n",
      "[b'Shaan' b'Sakshi' b'Arpit']\n"
     ]
    }
   ],
   "source": [
    "\n",
    "\n",
    "\n",
    "\n",
    "'''Structured Arrays\n",
    "ndarrays are homogeneous data objects, i.e. all elements of an array have to be of the \n",
    "same data type. The data type dytpe on the other hand allows as to define separate data \n",
    "types for each column.\n",
    "Now we will take the first step towards implementing the table with European countries \n",
    "and the information on population, area and population density. We create a structured \n",
    "array with the 'density' column. The data type is defined as np.dtype([('density', np.int)]). \n",
    "We assign this data type to the variable 'dt' for the sake of convenience. We use this data \n",
    "type in the darray definition, in which we use the first three densities.\n",
    "\n",
    "import numpy as np\n",
    "dt = np.dtype([('density', np.int32)])\n",
    "x = np.array([(393,), (337,), (256,)],\n",
    "             dtype=dt)\n",
    "print(dt)\n",
    "print(x)\n",
    "print(x['density'])\n",
    "print(\"\\nThe internal representation:\")\n",
    "print(repr(x))'''\n",
    "\n",
    "import numpy as np\n",
    "dt=np.dtype([('Roll',np.int16),('Name','S20')])\n",
    "x=np.array([(1,'Shaan'),(2,'Sakshi'),(3,'Arpit')],dtype=dt)\n",
    "print(x)\n",
    "print(x['Roll'])\n",
    "print(x['Name'])"
   ]
  },
  {
   "cell_type": "code",
   "execution_count": 14,
   "metadata": {},
   "outputs": [
    {
     "name": "stdout",
     "output_type": "stream",
     "text": [
      "[393 337 256]\n"
     ]
    }
   ],
   "source": [
    "'''We can access the content of the density column by indexing x with the key 'density'. \n",
    "It looks like accessing a dictionary in Python:'''\n",
    "print(x['density'])"
   ]
  },
  {
   "cell_type": "code",
   "execution_count": 15,
   "metadata": {},
   "outputs": [
    {
     "name": "stdout",
     "output_type": "stream",
     "text": [
      "[(393,) (337,) (256,)]\n"
     ]
    }
   ],
   "source": [
    "'''we have used 'np.int32' in our definition and the internal representation \n",
    "shows '<i4'. We can use in the dtype definition the type directly \n",
    "(e.g. np.int32) or we can use a  string (e.g. 'i4'). So, we could have \n",
    "defined our dtype like this as well:'''\n",
    "dt = np.dtype([('density', 'i4')])\n",
    "x = np.array([(393,), (337,), (256,)],\n",
    "             dtype=dt)\n",
    "print(x)"
   ]
  },
  {
   "cell_type": "code",
   "execution_count": 2,
   "metadata": {},
   "outputs": [
    {
     "name": "stdout",
     "output_type": "stream",
     "text": [
      "float64 = 8\n",
      "float64 > 8\n",
      "float64 = 8\n"
     ]
    }
   ],
   "source": [
    "'''The 'i' means integer and the 4 means 4 bytes. What about the less-than sign in \n",
    "front of i4 in the result? We could have written '<i4' in our definition as \n",
    "well. We can prefix a type with the '<' and '>' sign. '<' means that the \n",
    "encoding will be little-endian and '>' means that the encoding will be \n",
    "big-endian. No prefix means that we get the native byte ordering. We \n",
    "demonstrate this in the following by defining \n",
    "a double-precision floating-point number in various orderings:\n",
    "'''\n",
    "import numpy as np\n",
    "# little-endian ordering\n",
    "dt = np.dtype('<d')\n",
    "print(dt.name, dt.byteorder, dt.itemsize)\n",
    "# big-endian ordering\n",
    "dt = np.dtype('>d')  \n",
    "print(dt.name, dt.byteorder, dt.itemsize)\n",
    "# native byte ordering\n",
    "dt = np.dtype('d') \n",
    "print(dt.name, dt.byteorder, dt.itemsize)"
   ]
  },
  {
   "cell_type": "code",
   "execution_count": 10,
   "metadata": {},
   "outputs": [
    {
     "name": "stdout",
     "output_type": "stream",
     "text": [
      "[(b'Netherlands', 393,  41526, 16928800)\n",
      " (b'Belgium', 337,  30510, 11007020)\n",
      " (b'United Kingdom', 256, 243610, 62262000)\n",
      " (b'Germany', 233, 357021, 81799600)]\n"
     ]
    }
   ],
   "source": [
    "'''The equal character '=' stands for 'native byte ordering', defined by the \n",
    "operating system. \n",
    "In our case this means 'little-endian', because we use a Linux computer.\n",
    "Another thing in our density array might be confusing. We defined the array with a list \n",
    "containing one-tuples. So you may ask yourself, if it is possible to use tuples and lists \n",
    "interchangeably? This is not possible. The tuples are used to define the records - in our \n",
    "case consisting solely of a density - and the list is the 'container' for the records or \n",
    "in other words 'the lists are cursed upon'. The tuples define the atomic elements of the \n",
    "structure and the lists the dimensions.\n",
    "Now we will add the country name, the area and the population number to our data type:'''\n",
    "dt = np.dtype([('country', 'S20'), ('density', 'i4'), ('area', 'i4'), \n",
    "               ('population', 'i4')])\n",
    "population_table = np.array([\n",
    "    ('Netherlands', 393, 41526, 16928800),\n",
    "    ('Belgium', 337, 30510, 11007020),\n",
    "    ('United Kingdom', 256, 243610, 62262000),\n",
    "    ('Germany', 233, 357021, 81799600),\n",
    "    ('Liechtenstein', 205, 160, 32842),\n",
    "    ('Italy', 192, 301230, 59715625),\n",
    "    ('Switzerland', 177, 41290, 7301994),\n",
    "    ('Luxembourg', 173, 2586, 512000),\n",
    "    ('France', 111, 547030, 63601002),\n",
    "    ('Austria', 97, 83858, 8169929),\n",
    "    ('Greece', 81, 131940, 11606813),\n",
    "    ('Ireland', 65, 70280, 4581269),\n",
    "    ('Sweden', 20, 449964, 9515744),\n",
    "    ('Finland', 16, 338424, 5410233),\n",
    "    ('Norway', 13, 385252, 5033675)],\n",
    "    dtype=dt)\n",
    "print(population_table[:4])"
   ]
  },
  {
   "cell_type": "code",
   "execution_count": 18,
   "metadata": {},
   "outputs": [
    {
     "name": "stdout",
     "output_type": "stream",
     "text": [
      "[393 337 256 233 205 192 177 173 111  97  81  65  20  16  13]\n",
      "[b'Netherlands' b'Belgium' b'United Kingdom' b'Germany' b'Liechtenstein'\n",
      " b'Italy' b'Switzerland' b'Luxembourg' b'France' b'Austria' b'Greece'\n",
      " b'Ireland' b'Sweden' b'Finland' b'Norway']\n",
      "[243610 357021    160]\n"
     ]
    }
   ],
   "source": [
    "print(population_table['density'])\n",
    "print(population_table['country'])\n",
    "print(population_table['area'][2:5])"
   ]
  },
  {
   "cell_type": "code",
   "execution_count": 1,
   "metadata": {},
   "outputs": [
    {
     "name": "stdout",
     "output_type": "stream",
     "text": [
      "[('Netherlands', 393,  41526, 16928800) ('Belgium', 337,  30510, 11007020)\n",
      " ('United Kingdom', 256, 243610, 62262000)\n",
      " ('Germany', 233, 357021, 81799600)]\n"
     ]
    }
   ],
   "source": [
    "'''Unicode Strings in Array\n",
    "Some may have noticed that the strings in our previous array have been prefixed with a \n",
    "lower case \"b\". This means that we have created binary strings with the \n",
    "definition \"('country', 'S20')\". To get unicode strings we exchange this \n",
    "with the definition  \"('country', np.unicode, 20)\". We will redefine our \n",
    "population table now:'''\n",
    "import numpy as np\n",
    "dt = np.dtype([('country', np.unicode, 20), \n",
    "               ('density', 'i4'), \n",
    "               ('area', 'i4'), \n",
    "               ('population', 'i4')])\n",
    "population_table = np.array([\n",
    "    ('Netherlands', 393, 41526, 16928800),\n",
    "    ('Belgium', 337, 30510, 11007020),\n",
    "    ('United Kingdom', 256, 243610, 62262000),\n",
    "    ('Germany', 233, 357021, 81799600),\n",
    "    ('Liechtenstein', 205, 160, 32842),\n",
    "    ('Italy', 192, 301230, 59715625),\n",
    "    ('Switzerland', 177, 41290, 7301994),\n",
    "    ('Luxembourg', 173, 2586, 512000),\n",
    "    ('France', 111, 547030, 63601002),\n",
    "    ('Austria', 97, 83858, 8169929),\n",
    "    ('Greece', 81, 131940, 11606813),\n",
    "    ('Ireland', 65, 70280, 4581269),\n",
    "    ('Sweden', 20, 449964, 9515744),\n",
    "    ('Finland', 16, 338424, 5410233),\n",
    "    ('Norway', 13, 385252, 5033675)],\n",
    "    dtype=dt)\n",
    "print(population_table[:4])"
   ]
  },
  {
   "cell_type": "code",
   "execution_count": 2,
   "metadata": {},
   "outputs": [],
   "source": [
    "'''Input and Output of Structured Arrays\n",
    "In most applications it will be necessary to save the data from a program into a file. \n",
    "We will write our previously created \"darray\" to a file with the command savetxt. \n",
    "'''\n",
    "np.savetxt(\"lalit.csv\",\n",
    "           population_table,\n",
    "           fmt=\"%s;%d;%d;%d\",           \n",
    "           delimiter=\";\")"
   ]
  },
  {
   "cell_type": "code",
   "execution_count": 3,
   "metadata": {},
   "outputs": [
    {
     "name": "stdout",
     "output_type": "stream",
     "text": [
      "[('Netherlands', 393,  41526, 16928800) ('Belgium', 337,  30510, 11007020)\n",
      " ('United Kingdom', 256, 243610, 62262000)\n",
      " ('Germany', 233, 357021, 81799600)\n",
      " ('Liechtenstein', 205,    160,    32842) ('Italy', 192, 301230, 59715625)\n",
      " ('Switzerland', 177,  41290,  7301994)\n",
      " ('Luxembourg', 173,   2586,   512000) ('France', 111, 547030, 63601002)\n",
      " ('Austria',  97,  83858,  8169929) ('Greece',  81, 131940, 11606813)\n",
      " ('Ireland',  65,  70280,  4581269) ('Sweden',  20, 449964,  9515744)\n",
      " ('Finland',  16, 338424,  5410233) ('Norway',  13, 385252,  5033675)]\n"
     ]
    }
   ],
   "source": [
    "dt = np.dtype([('country', np.unicode, 20), ('density', 'i4'), ('area', 'i4'),\n",
    "               ('population', 'i4')])\n",
    "x = np.genfromtxt(\"lalit.csv\",\n",
    "               dtype=dt,\n",
    "               delimiter=\";\")\n",
    "print(x)"
   ]
  },
  {
   "cell_type": "code",
   "execution_count": 14,
   "metadata": {},
   "outputs": [
    {
     "name": "stdout",
     "output_type": "stream",
     "text": [
      "array([('Netherlands', 393,  41526, 16928800),\n",
      "       ('Belgium', 337,  30510, 11007020),\n",
      "       ('United Kingdom', 256, 243610, 62262000),\n",
      "       ('Germany', 233, 357021, 81799600),\n",
      "       ('Liechtenstein', 205,    160,    32842),\n",
      "       ('Italy', 192, 301230, 59715625),\n",
      "       ('Switzerland', 177,  41290,  7301994),\n",
      "       ('Luxembourg', 173,   2586,   512000),\n",
      "       ('France', 111, 547030, 63601002),\n",
      "       ('Austria',  97,  83858,  8169929),\n",
      "       ('Greece',  81, 131940, 11606813),\n",
      "       ('Ireland',  65,  70280,  4581269),\n",
      "       ('Sweden',  20, 449964,  9515744),\n",
      "       ('Finland',  16, 338424,  5410233),\n",
      "       ('Norway',  13, 385252,  5033675)],\n",
      "      dtype=[('country', '<U20'), ('density', '<i4'), ('area', '<i4'), ('population', '<i4')])\n"
     ]
    }
   ],
   "source": [
    "'''There is also a function \"loadtxt\", but it is more difficult to use, because\n",
    "it returns the strings as binary strings!To overcome this problem, we can use \n",
    "loadtxt  with a converter function for the first column.\n",
    "'''\n",
    "dt = np.dtype([('country', np.unicode, 20), ('density', 'i4'), ('area', 'i4'), ('population', 'i4')])\n",
    "x = np.loadtxt(\"population_table.csv\",\n",
    "               dtype=dt,\n",
    "               converters={0: lambda x: x.decode('utf-8')},\n",
    "               delimiter=\";\")\n",
    "print(repr(x))"
   ]
  },
  {
   "cell_type": "code",
   "execution_count": 16,
   "metadata": {},
   "outputs": [
    {
     "name": "stdout",
     "output_type": "stream",
     "text": [
      "(45765, 439.93)\n",
      "[34765 45765 99661 12129]\n",
      "344.19\n",
      "[(34765, 603.76) (45765, 439.93) (99661, 344.19) (12129, 129.39)]\n"
     ]
    }
   ],
   "source": [
    "'''Exercises:\n",
    "1. Exercise:\n",
    "Define a structured array with two columns. The first column contains the \n",
    "product ID,  which can be defined as an int32. The second column shall \n",
    "contain the price for the product. How can you print out the column with \n",
    "the product IDs, the first row and the price for the third article of \n",
    "this structured array?\n",
    "\n",
    "\n",
    "\n",
    "\n",
    "\n",
    "\n",
    "\n",
    "\n",
    "\n",
    "\n",
    "\n",
    "\n",
    "\n",
    "\n",
    "\n",
    "\n",
    "2. Exercise:\n",
    "Figure out a data type definition for time records with entries for hours, \n",
    "minutes and  seconds.'''\n",
    "\n",
    "import numpy as np\n",
    "mytype = [('productID', np.int32), ('price', np.float64)]\n",
    "stock = np.array([(34765, 603.76), \n",
    "                  (45765, 439.93),\n",
    "                  (99661, 344.19),\n",
    "                  (12129, 129.39)], dtype=mytype)\n",
    "print(stock[1])\n",
    "print(stock[\"productID\"])\n",
    "print(stock[2][\"price\"])\n",
    "print(stock)\n",
    "\n"
   ]
  },
  {
   "cell_type": "code",
   "execution_count": 4,
   "metadata": {},
   "outputs": [
    {
     "name": "stdout",
     "output_type": "stream",
     "text": [
      "[(11, 38, 5) (14, 56, 0) ( 3,  9, 1)]\n",
      "(11, 38, 5)\n",
      "(11, 42, 17)\n",
      "56\n",
      "[42 56  9]\n"
     ]
    }
   ],
   "source": [
    "import numpy as np\n",
    "time_type = np.dtype( [('h', int), ('min', int), ('sec', int)])\n",
    "times = np.array([(11, 38, 5), \n",
    "                  (14, 56, 0),\n",
    "                  (3, 9, 1)], dtype=time_type)\n",
    "print(times)\n",
    "print(times[0])\n",
    "# reset the first time record:\n",
    "times[0] = (11, 42, 17)\n",
    "print(times[0])\n",
    "print(times[1]['min'])\n",
    "print(times['min'])"
   ]
  },
  {
   "cell_type": "code",
   "execution_count": 25,
   "metadata": {},
   "outputs": [
    {
     "name": "stdout",
     "output_type": "stream",
     "text": [
      "[((11, 42, 17), 20.8) ((13, 19,  3), 23.2)]\n",
      "[(11, 42, 17) (13, 19,  3)]\n",
      "[11 13]\n",
      "[20.8 23.2]\n"
     ]
    }
   ],
   "source": [
    "time_type = np.dtype( np.dtype([('time', [('h', int), ('min', int), \n",
    "                                ('sec', int)]),\n",
    "                            ('temperature', float)] ))\n",
    "times = np.array( [((11, 42, 17), 20.8), ((13, 19, 3), 23.2) ], \n",
    "                 dtype=time_type)\n",
    "print(times)\n",
    "print(times['time'])\n",
    "print(times['time']['h'])\n",
    "print(times['temperature'])"
   ]
  },
  {
   "cell_type": "code",
   "execution_count": 12,
   "metadata": {},
   "outputs": [
    {
     "name": "stdout",
     "output_type": "stream",
     "text": [
      "[[1001   22   12]\n",
      " [  44   53   66]]\n",
      "[[42 22 12]\n",
      " [44 53 66]]\n",
      "False\n"
     ]
    }
   ],
   "source": [
    "import numpy as np\n",
    "x = np.array([[42,22,12],[44,53,66]])\n",
    "y = x.copy()\n",
    "x[0,0] = 1001\n",
    "print(x)\n",
    "print(y)\n",
    "print(np.may_share_memory(x,y))"
   ]
  },
  {
   "cell_type": "code",
   "execution_count": 9,
   "metadata": {},
   "outputs": [
    {
     "name": "stdout",
     "output_type": "stream",
     "text": [
      "[ 16.      25.      98.01    28.09    79.21     4.4521 151.29   222.01  ]\n",
      "[ 8.         11.18033989 31.14962279 12.2015163  26.55125232  3.06495204\n",
      " 43.13776768 57.51477202]\n"
     ]
    }
   ],
   "source": [
    "'''Numerical Operations on Numpy Arrays'''\n",
    "import numpy as np\n",
    "lst = [2,3, 7.9, 3.3, 6.9, 0.11, 10.3, 12.9]\n",
    "v = np.array(lst)\n",
    "v = v + 2\n",
    "print(v)\n",
    "print(v * 2.2)\n",
    "print(v ** 2)\n",
    "print(v ** 1.5)"
   ]
  },
  {
   "cell_type": "code",
   "execution_count": 3,
   "metadata": {},
   "outputs": [
    {
     "name": "stdout",
     "output_type": "stream",
     "text": [
      "[4, 5, 9.9, 5.3, 8.9, 2.11, 12.3, 14.9]\n"
     ]
    }
   ],
   "source": [
    "lst = [2,3, 7.9, 3.3, 6.9, 0.11, 10.3, 12.9]\n",
    "res = []\n",
    "for val in lst:\n",
    "    res.append(val + 2)\n",
    "print(res)"
   ]
  },
  {
   "cell_type": "code",
   "execution_count": 4,
   "metadata": {},
   "outputs": [
    {
     "name": "stdout",
     "output_type": "stream",
     "text": [
      "[4, 5, 9.9, 5.3, 8.9, 2.11, 12.3, 14.9]\n"
     ]
    }
   ],
   "source": [
    "res = [ val + 2 for val in lst]\n",
    "print(res)"
   ]
  },
  {
   "cell_type": "code",
   "execution_count": 8,
   "metadata": {
    "scrolled": true
   },
   "outputs": [
    {
     "name": "stdout",
     "output_type": "stream",
     "text": [
      "[61 75 17 39 92 76 72 71 38 48 79 89 51 50 39 79  5  0 14 27 39 42 70 86\n",
      " 80 58  9 33 33 68 70 65 20 71 16 32 61 44 95  8 55 52 81 40 14 71  8 19\n",
      "  0  3 76 17 48 39 74 16 59 59 43 30 21 42 17 42 73  5 48 87 74 68 65  0\n",
      " 59 19 66 15 27 85 50 45 12 50 60 99 54 24  1 65  3 62 13  2 82 15 79 93\n",
      "  0 80  1 64 51 96 47 77 50 20 19 13 38 82 45  1 77 86 91  8  0 57 90 86\n",
      " 47 28 18 74 56 70 21 51 65 40  8 37 49 11 26 29 74  5  0 50 83 77  0 46\n",
      " 78 87 11 60 79 29 87 34 36 10 95 88 18  1 63 29 95 37 76 68 28 53 88 59\n",
      " 39 90 68 72 78 89 45 64 16  0 95 99 71 13 29 51 93  2  1 31 96 59 65 13\n",
      " 56 97 72 61 61 34 97  6 16 73 59 84 15 36 45 38  5 11 20 92 78 57 96  1\n",
      " 60 54 25 30 67 49 48 30 65 58 48 43 14 11 29 95 82 11 38 48 80 55 70 84\n",
      " 55 49 27  6 52 30 46 43 45 52 60 95 67 19 66 20  2 82 32 68 62 21 75 10\n",
      " 66 10 52 91 20 46 35 60 17 18 94 73 63 96 72 18 39  3 89 99 95 60 47 12\n",
      " 83 89 57 36  4 48 36 42 14 41 71 98  0 64 10 17 71 11 22 98 59 81 39 23\n",
      " 84  9  7 79 51 80 98  4 77 91 93 83 44 26 48 50 27 81  5  6 45 87 75 79\n",
      " 25 94 78  8 55 81 68 77 57 99 47 84 27 26  3  1 65 29  1  8 11 62 47  7\n",
      " 88 63 68 17 50  6 78 85 38 29 34 21 69 89 88 26  5 26 89 82 29 26 96 71\n",
      " 36 20 77 21  8 49  1 83 87 70 70 28 67 50 72 10 88 11 60 30  2 53 25 22\n",
      " 84 59 41 42 95 35 88 22 51 43 13 64 38 80 86 98 86 69 96 38 50 93 67 92\n",
      " 92 30 21 92 75 81 51  9 37 42 10 92 68 47 27 76 70 37 87 71 60 67 71 30\n",
      " 93 24 28 55 92 86 20 83 53 76 18 67 46 17 28 87 97 45 28 23 95 19 22 49\n",
      " 69 93 29  5 34  2 43 77  7 24 96 59 68 86 12 41 30 20 25 78 55 96 45 16\n",
      " 46  0 77 23 20 64 47 26 79 54 61 57 59 79 32 72 70  3 37 39 96 81 23 81\n",
      "  3 41 93 44 75 88 25 53 29 23 10 54 62 23 52 40 59  2 13 25 39 12 87 49\n",
      " 60 73 60 50 35 89 84  4 60  2 45 92 67 59 48 23 86 83 76 35 46  8  8 42\n",
      " 54 76 48 63 40 39 89 71 95  0 69  3 95 29 24 83 12 20 40 45 36 80 25 41\n",
      " 17 31 16 18 89 87 30 48 35 31 85 80 33  3 75 87 50 98 42 61 11 82 22 64\n",
      " 45 11 78 53  6 65 59 11 97 66 27 60  8 38 12 18 56 27 65  7 16  9 62  7\n",
      " 54 58 99 53 64  7  2 87 24 78  7 28 27 96 87  1 35 73 81 57 46 68 77  1\n",
      " 15 78 29 83 15 77 36 48 62 72  8 32 64 35 78 83 56 38 74 25 39 56 34 24\n",
      "  4  6 78 11 56 50 76 76 75  3 68 81 27 34 63 17 97 75 91 72 33 90 52  9\n",
      " 74 34 20 86 98 14 62 24 94 84 83 78 69 86 45 59 70 36 62 62 79 91 33  9\n",
      " 85 69  3 86 91 97 24 19  4 75 80  5 84 14 92 32 27 37 63 29 22 48 43  8\n",
      " 14 11 88 73 94 31 17 34 37 93 16  4 28  4 25 69 88 15 91 51  3 72 36 51\n",
      " 75  0 53 81 19  5  3 50 68 61 82 56 97 59 87 50 19 34 19 23 38 58 94 90\n",
      " 12 31 81 83 92  2  0 72 18 76 26 89 63  8 87 42 78 88 26 45 43 96 54 72\n",
      " 83 38 47 97 54 46 13 26 55 42 23 32 44 51 16 17 34 27 98 93 92 61 18 78\n",
      "  3  1 17 13 26 28  0 91 64 92 67 23 45 33 49 52 63 24 95 92  4 24 84  1\n",
      " 93 21 96  4 96 75 86 57 80 27 56 97 60 27 69 11  0 62 92 42 38 99 94 63\n",
      " 76  1 90 23 17 64 32 94 28 68  6 68 48  1 69 63 30 31 10 69 41 36 79  3\n",
      " 49 78  3 21 32 67 81  4 55 13  1 33 11  0 24 52 53 96 68 86 90 37 78 12\n",
      " 53 61 17 84 59 96  0 70 95 65 21 21 52 89 39  6 10 67 42 27 15 41 23 16\n",
      " 76 24 15 92 50 80 73 96 25 39 99 63 85 57 37 49]\n",
      "1.67 µs ± 93.5 ns per loop (mean ± std. dev. of 7 runs, 1000000 loops each)\n"
     ]
    }
   ],
   "source": [
    "v = np.random.randint(0, 100, 1000)\n",
    "print(v)\n",
    "%timeit v+1"
   ]
  },
  {
   "cell_type": "code",
   "execution_count": 9,
   "metadata": {},
   "outputs": [
    {
     "name": "stdout",
     "output_type": "stream",
     "text": [
      "194 µs ± 5.22 µs per loop (mean ± std. dev. of 7 runs, 10000 loops each)\n"
     ]
    }
   ],
   "source": [
    "lst = list(v)\n",
    "%timeit [ val + 2 for val in lst]"
   ]
  },
  {
   "cell_type": "code",
   "execution_count": 4,
   "metadata": {},
   "outputs": [
    {
     "name": "stdout",
     "output_type": "stream",
     "text": [
      "Adding to arrays: \n",
      "[[12 14 16]\n",
      " [25 27 29]\n",
      " [38 40 42]]\n",
      "\n",
      "Multiplying two arrays: \n",
      "[[ 2  3  4]\n",
      " [ 5  6  7]\n",
      " [ 8  9 10]]\n",
      "[[ 22  36  52]\n",
      " [105 132 161]\n",
      " [248 288 330]]\n"
     ]
    }
   ],
   "source": [
    "'''Arithmetic Operations with two Arrays'''\n",
    "import numpy as np\n",
    "A = np.array([ [11, 12, 13], [21, 22, 23], [31, 32, 33] ])\n",
    "B = np.array([ [1, 2, 3], [4, 5, 6], [7, 8, 9]])\n",
    "print(\"Adding to arrays: \")\n",
    "print(A + B)\n",
    "print(\"\\nMultiplying two arrays: \")\n",
    "print(B+1)\n",
    "print(A * (B + 1))"
   ]
  },
  {
   "cell_type": "code",
   "execution_count": 10,
   "metadata": {},
   "outputs": [
    {
     "name": "stdout",
     "output_type": "stream",
     "text": [
      "12\n",
      "1\n",
      "12\n",
      "10\n"
     ]
    }
   ],
   "source": [
    "'''Definition of the dot Product\n",
    "The dot product is defined like this:\n",
    "dot(a, b, out=None)\n",
    "For 2-D arrays the dot product is equivalent to matrix multiplication. For 1-D arrays it is the \n",
    "same as the inner product of vectors (without complex conjugation). For N dimensions it is \n",
    "a sum product over the last axis of 'a' and the second-to-last of 'b'::\n",
    "Parameter\tMeaning\n",
    "a\tarray or array like argument\n",
    "b\tarray or array like argument\n",
    "out\t'out' is an optional parameter, which must have the exact kind of what would be returned, \n",
    "if it was not used. This is a performance feature. Therefore, if these conditions are not met, \n",
    "an exception is raised, instead of attempting to be flexible.\n",
    "The function dot returns the dot product of 'a' and 'b'. If 'a' and 'b' are both scalars or \n",
    "both 1-D arrays then a scalar is returned; otherwise an array will returned.\n",
    "It will raise a ValueError, if the shape of the last dimension of 'a' is not the same size as \n",
    "the shape of the second-to-last dimension of 'b', i.e. a.shape[-1] == b.shape[-2]'''\n",
    "print(np.dot(3, 4))\n",
    "x = np.array([3])\n",
    "y = np.array([4])\n",
    "print(x.ndim)\n",
    "print(np.dot(x, y))\n",
    "x = np.array([3, -2])\n",
    "y = np.array([4, 1])\n",
    "print(np.dot(x, y))"
   ]
  },
  {
   "cell_type": "code",
   "execution_count": 2,
   "metadata": {},
   "outputs": [
    {
     "name": "stdout",
     "output_type": "stream",
     "text": [
      "(2, 3)\n",
      "True 3\n",
      "[[ 7  7 17  4]\n",
      " [ 9  9 19  0]]\n"
     ]
    }
   ],
   "source": [
    "import numpy as np\n",
    "A = np.array([ [1, 2, 3], \n",
    "               [3, 2, 1] ])\n",
    "B = np.array([ [2, 3, 4, -2], \n",
    "               [1, -1, 2, 3],\n",
    "               [1, 2, 3, 0] ])\n",
    "# es muss gelten:\n",
    "print(A.shape[-1])\n",
    "print(A.shape[-1] == B.shape[-2], A.shape[1]) \n",
    "print(np.dot(A, B))"
   ]
  },
  {
   "cell_type": "code",
   "execution_count": 13,
   "metadata": {},
   "outputs": [
    {
     "name": "stdout",
     "output_type": "stream",
     "text": [
      "The shapes:\n",
      "(3, 3, 3)\n",
      "(3, 3, 3)\n",
      "(3, 3, 3, 3)\n",
      "\n",
      "The Result R:\n",
      "[[[[14 19 15]\n",
      "   [15 15  9]\n",
      "   [13  9 18]]\n",
      "\n",
      "  [[18 24 20]\n",
      "   [20 20 12]\n",
      "   [18 12 22]]\n",
      "\n",
      "  [[15 18 22]\n",
      "   [22 13 12]\n",
      "   [21  9 14]]]\n",
      "\n",
      "\n",
      " [[[16 21 19]\n",
      "   [19 16 11]\n",
      "   [17 10 19]]\n",
      "\n",
      "  [[25 32 32]\n",
      "   [32 23 18]\n",
      "   [29 15 28]]\n",
      "\n",
      "  [[13 18 12]\n",
      "   [12 18  8]\n",
      "   [11 10 17]]]\n",
      "\n",
      "\n",
      " [[[11 14 14]\n",
      "   [14 11  8]\n",
      "   [13  7 12]]\n",
      "\n",
      "  [[17 23 19]\n",
      "   [19 16 11]\n",
      "   [16 10 22]]\n",
      "\n",
      "  [[19 25 23]\n",
      "   [23 17 13]\n",
      "   [20 11 23]]]]\n"
     ]
    }
   ],
   "source": [
    "'''The dot Product in the 3-dimensional Case'''\n",
    "import numpy as np\n",
    "X = np.array( [[[3, 1, 2],\n",
    "                [4, 2, 2],\n",
    "                [2, 4, 1]],\n",
    "               [[3, 2, 2],\n",
    "                [4, 4, 3],\n",
    "                [4, 1, 1]],\n",
    "               [[2, 2, 1],\n",
    "                [3, 1, 3],\n",
    "                [3, 2, 3]]])\n",
    "Y = np.array( [[[2, 3, 1],\n",
    "                [2, 2, 4],\n",
    "                [3, 4, 4]],\n",
    "            \n",
    "               [[1, 4, 1],\n",
    "                [4, 1, 2],\n",
    "                [4, 1, 2]],\n",
    "            \n",
    "               [[1, 2, 3],\n",
    "                [4, 1, 1],\n",
    "                [3, 1, 4]]])\n",
    "R = np.dot(X, Y)\n",
    "print(\"The shapes:\")\n",
    "print(X.shape)\n",
    "print(Y.shape)\n",
    "print(R.shape)\n",
    "print(\"\\nThe Result R:\")\n",
    "print(R)"
   ]
  },
  {
   "cell_type": "code",
   "execution_count": 14,
   "metadata": {},
   "outputs": [
    {
     "name": "stdout",
     "output_type": "stream",
     "text": [
      "X.shape:  (4, 2, 3)    X.ndim:  3\n",
      "Y.shape:  (2, 3, 5)    Y.ndim:  3\n",
      "R.shape:  (4, 2, 2, 5) R.ndim:  4\n",
      "\n",
      "The result array R:\n",
      "\n",
      "[[[[ 14  19   5   8   1]\n",
      "   [ 15  15  10  16   3]]\n",
      "\n",
      "  [[ 18  24   8  10   2]\n",
      "   [ 20  20  14  22   2]]]\n",
      "\n",
      "\n",
      " [[[  1   1  -1  -1  -2]\n",
      "   [  3  -3  -3   1  -2]]\n",
      "\n",
      "  [[ -6  -7  -1   0   3]\n",
      "   [-11   1   2  -8   5]]]\n",
      "\n",
      "\n",
      " [[[ 16  21   7   8   1]\n",
      "   [ 19  16  11  20   0]]\n",
      "\n",
      "  [[ 25  32  12  11   1]\n",
      "   [ 32  23  16  33  -4]]]\n",
      "\n",
      "\n",
      " [[[ 11  14   6   5   1]\n",
      "   [ 14  11   8  15  -2]]\n",
      "\n",
      "  [[ 17  23   5   9   0]\n",
      "   [ 19  16  10  19   3]]]]\n"
     ]
    }
   ],
   "source": [
    "import numpy as np\n",
    "X = np.array(\n",
    "    [[[3, 1, 2],\n",
    "      [4, 2, 2]],\n",
    "     [[-1, 0, 1],\n",
    "      [1, -1, -2]],\n",
    "     \n",
    "     [[3, 2, 2],\n",
    "      [4, 4, 3]],\n",
    "     [[2, 2, 1],\n",
    "      [3, 1, 3]]])\n",
    "Y = np.array(\n",
    "    [[[2, 3, 1, 2, 1],\n",
    "      [2, 2, 2, 0, 0],\n",
    "      [3, 4, 0, 1, -1]],\n",
    "     [[1, 4, 3, 2, 2],\n",
    "      [4, 1, 1, 4, -3],\n",
    "      [4, 1, 0, 3, 0]]])\n",
    "R = np.dot(X, Y)\n",
    "print(\"X.shape: \", X.shape, \"   X.ndim: \", X.ndim)\n",
    "print(\"Y.shape: \", Y.shape, \"   Y.ndim: \", Y.ndim)\n",
    "print(\"R.shape: \",     R.shape, \"R.ndim: \", R.ndim)\n",
    "print(\"\\nThe result array R:\\n\")\n",
    "print(R)"
   ]
  },
  {
   "cell_type": "code",
   "execution_count": 15,
   "metadata": {},
   "outputs": [
    {
     "name": "stdout",
     "output_type": "stream",
     "text": [
      "    sum(X[0, 0, :] * Y[0, :, 0] :  14\n",
      "    sum(X[0, 0, :] * Y[0, :, 1] :  19\n",
      "    sum(X[0, 0, :] * Y[0, :, 2] :  5\n",
      "    sum(X[0, 0, :] * Y[0, :, 3] :  8\n",
      "    sum(X[0, 0, :] * Y[0, :, 4] :  1\n",
      "    sum(X[0, 0, :] * Y[1, :, 0] :  15\n",
      "    sum(X[0, 0, :] * Y[1, :, 1] :  15\n",
      "    sum(X[0, 0, :] * Y[1, :, 2] :  10\n",
      "    sum(X[0, 0, :] * Y[1, :, 3] :  16\n",
      "    sum(X[0, 0, :] * Y[1, :, 4] :  3\n",
      "    sum(X[0, 1, :] * Y[0, :, 0] :  18\n",
      "    sum(X[0, 1, :] * Y[0, :, 1] :  24\n",
      "    sum(X[0, 1, :] * Y[0, :, 2] :  8\n",
      "    sum(X[0, 1, :] * Y[0, :, 3] :  10\n",
      "    sum(X[0, 1, :] * Y[0, :, 4] :  2\n",
      "    sum(X[0, 1, :] * Y[1, :, 0] :  20\n",
      "    sum(X[0, 1, :] * Y[1, :, 1] :  20\n",
      "    sum(X[0, 1, :] * Y[1, :, 2] :  14\n",
      "    sum(X[0, 1, :] * Y[1, :, 3] :  22\n",
      "    sum(X[0, 1, :] * Y[1, :, 4] :  2\n"
     ]
    }
   ],
   "source": [
    "i = 0\n",
    "for j in range(X.shape[1]):\n",
    "    for k in range(Y.shape[0]):\n",
    "        for m in range(Y.shape[2]):\n",
    "            fmt = \"    sum(X[{}, {}, :] * Y[{}, :, {}] :  {}\"\n",
    "            arguments = (i, j, k, m, sum(X[i, j, :] * Y[k, :, m]))\n",
    "            print(fmt.format(*arguments))"
   ]
  },
  {
   "cell_type": "code",
   "execution_count": 16,
   "metadata": {},
   "outputs": [
    {
     "name": "stdout",
     "output_type": "stream",
     "text": [
      "[[[14 19  5  8  1]\n",
      "  [15 15 10 16  3]]\n",
      "\n",
      " [[18 24  8 10  2]\n",
      "  [20 20 14 22  2]]]\n"
     ]
    }
   ],
   "source": [
    "print(R[0])"
   ]
  },
  {
   "cell_type": "code",
   "execution_count": 17,
   "metadata": {},
   "outputs": [
    {
     "name": "stdout",
     "output_type": "stream",
     "text": [
      "True\n"
     ]
    }
   ],
   "source": [
    "R2 = np.zeros(R.shape, dtype=np.int)\n",
    "for i in range(X.shape[0]):\n",
    "    for j in range(X.shape[1]):\n",
    "        for k in range(Y.shape[0]):\n",
    "            for m in range(Y.shape[2]):\n",
    "                R2[i, j, k, m] = sum(X[i, j, :] * Y[k, :, m])\n",
    "print( np.array_equal(R, R2) )"
   ]
  },
  {
   "cell_type": "code",
   "execution_count": 18,
   "metadata": {},
   "outputs": [
    {
     "name": "stdout",
     "output_type": "stream",
     "text": [
      "[[ 3  4  3]\n",
      " [ 2  4  6]\n",
      " [-3 -6 -9]]\n"
     ]
    }
   ],
   "source": [
    "'''Matrices vs. Two-Dimensional Arrays\n",
    "There are \"real\" matrices in Numpy. They are a subset of the two-dimensional \n",
    "arrays. We can turn a two-dimensional array into a matrix by applying the\n",
    "\"mat\" function. \n",
    "The main difference shows, if you multiply two two-dimensional arrays or \n",
    "two matrices. \n",
    "We get real matrix multiplication by multiplying two matrices, but the two-dimensional \n",
    "arrays will be only multiplied component-wise:'''\n",
    "import numpy as np\n",
    "A = np.array([ [1, 2, 3], [2, 2, 2], [3, 3, 3] ])\n",
    "B = np.array([ [3, 2, 1], [1, 2, 3], [-1, -2, -3] ])\n",
    "R = A * B\n",
    "print(R)"
   ]
  },
  {
   "cell_type": "code",
   "execution_count": 19,
   "metadata": {},
   "outputs": [
    {
     "name": "stdout",
     "output_type": "stream",
     "text": [
      "[[ 2  0 -2]\n",
      " [ 6  4  2]\n",
      " [ 9  6  3]]\n"
     ]
    }
   ],
   "source": [
    "MA = np.mat(A)\n",
    "MB = np.mat(B)\n",
    "R = MA * MB\n",
    "print(R)"
   ]
  },
  {
   "cell_type": "code",
   "execution_count": 20,
   "metadata": {},
   "outputs": [
    {
     "data": {
      "text/plain": [
       "array([[ True, False,  True],\n",
       "       [False,  True, False],\n",
       "       [ True,  True, False]])"
      ]
     },
     "execution_count": 20,
     "metadata": {},
     "output_type": "execute_result"
    }
   ],
   "source": [
    "'''Comparison Operators'''\n",
    "import numpy as np\n",
    "A = np.array([ [11, 12, 13], [21, 22, 23], [31, 32, 33] ])\n",
    "B = np.array([ [11, 102, 13], [201, 22, 203], [31, 32, 303] ])\n",
    "A == B"
   ]
  },
  {
   "cell_type": "code",
   "execution_count": 21,
   "metadata": {},
   "outputs": [
    {
     "name": "stdout",
     "output_type": "stream",
     "text": [
      "False\n",
      "True\n"
     ]
    }
   ],
   "source": [
    "print(np.array_equal(A, B))\n",
    "print(np.array_equal(A, A))"
   ]
  },
  {
   "cell_type": "code",
   "execution_count": 22,
   "metadata": {},
   "outputs": [
    {
     "name": "stdout",
     "output_type": "stream",
     "text": [
      "[[ True  True]\n",
      " [ True False]]\n",
      "[[ True False]\n",
      " [False False]]\n"
     ]
    }
   ],
   "source": [
    "'''Logical Operators'''\n",
    "a = np.array([ [True, True], [False, False]])\n",
    "b = np.array([ [True, False], [True, False]])\n",
    "print(np.logical_or(a, b))\n",
    "print(np.logical_and(a, b))"
   ]
  },
  {
   "cell_type": "code",
   "execution_count": 11,
   "metadata": {},
   "outputs": [
    {
     "name": "stdout",
     "output_type": "stream",
     "text": [
      "Multiplication with broadcasting: \n",
      "[[11 24 39]\n",
      " [21 44 69]\n",
      " [31 64 99]]\n",
      "... and now addition with broadcasting: \n",
      "[[12 14 16]\n",
      " [22 24 26]\n",
      " [32 34 36]]\n",
      "[[12 13 14]\n",
      " [23 24 25]\n",
      " [34 35 36]]\n"
     ]
    }
   ],
   "source": [
    "'''Applying Operators on Arrays with Different Shapes\n",
    "So far we have covered two different cases with basic operators like \"+\" or \"*\":\n",
    "\n",
    "an operator applied to an array and a scalar\n",
    "an operator applied to two arrays of the same shape\n",
    "We will see in the following that we can also apply operators on arrays, if\n",
    "they have different shapes. Yet, it works only under certain conditions.'''\n",
    "\n",
    "'''Broadcasting\n",
    "Numpy provides a powerful mechanism, called Broadcasting, which allows to \n",
    "perform arithmetic operations on arrays of different shapes. This means that \n",
    "we have a smaller array and a larger array, and we transform or apply the \n",
    "smaller array multiple times to perform some operation on the larger array. \n",
    "In other words: Under certain conditions, the smaller array is \"broadcasted\" \n",
    "in a way that it has the same shape as the larger array.\n",
    "\n",
    "With the aid of broadcasting we can avoid loops in our Python program. The \n",
    "looping occurs implicitly in the Numpy implementations, i.e. in C. We also \n",
    "avoid creating unnecessary copies of our data.'''\n",
    "\n",
    "import numpy as np\n",
    "A = np.array([ [11, 12, 13], [21, 22, 23], [31, 32, 33] ])\n",
    "B = np.array([1,2,3])\n",
    "print(\"Multiplication with broadcasting: \")\n",
    "print(A * B)\n",
    "print(\"... and now addition with broadcasting: \")\n",
    "print(A + B)\n",
    "\n",
    "B=np.array([[1,],\n",
    "            [2,],\n",
    "            [3,]])\n",
    "print(A+B)"
   ]
  },
  {
   "cell_type": "markdown",
   "metadata": {},
   "source": [
    "B = np.array([[1, 2, 3],] * 3)\n",
    "print(B)"
   ]
  },
  {
   "cell_type": "code",
   "execution_count": 18,
   "metadata": {},
   "outputs": [
    {
     "name": "stdout",
     "output_type": "stream",
     "text": [
      "[[1]\n",
      " [2]\n",
      " [3]\n",
      " [4]]\n",
      "[[1 2 3 4]]\n",
      "[[[1 2 3 4]]\n",
      "\n",
      " [[5 6 7 8]]]\n",
      "[[[1 2 3 4]\n",
      "  [5 6 7 8]]]\n"
     ]
    }
   ],
   "source": [
    "B = np.array([1, 2, 3,4])\n",
    "print(B[:, np.newaxis])\n",
    "print(B[np.newaxis,:])\n",
    "B=np.array([[1,2,3,4],[5,6,7,8]])\n",
    "print(B[:, np.newaxis])\n",
    "print(B[np.newaxis,:])\n"
   ]
  },
  {
   "cell_type": "code",
   "execution_count": 27,
   "metadata": {},
   "outputs": [
    {
     "data": {
      "text/plain": [
       "array([[11, 12, 13],\n",
       "       [42, 44, 46],\n",
       "       [93, 96, 99]])"
      ]
     },
     "execution_count": 27,
     "metadata": {},
     "output_type": "execute_result"
    }
   ],
   "source": [
    "B[:, np.newaxis]A * "
   ]
  },
  {
   "cell_type": "code",
   "execution_count": 28,
   "metadata": {},
   "outputs": [
    {
     "data": {
      "text/plain": [
       "array([[1, 1, 1],\n",
       "       [2, 2, 2],\n",
       "       [3, 3, 3]])"
      ]
     },
     "execution_count": 28,
     "metadata": {},
     "output_type": "execute_result"
    }
   ],
   "source": [
    "np.array([[1, 2, 3],] * 3).transpose()"
   ]
  },
  {
   "cell_type": "code",
   "execution_count": 29,
   "metadata": {},
   "outputs": [
    {
     "data": {
      "text/plain": [
       "array([[10],\n",
       "       [20],\n",
       "       [30]])"
      ]
     },
     "execution_count": 29,
     "metadata": {},
     "output_type": "execute_result"
    }
   ],
   "source": [
    "A = np.array([10, 20, 30])\n",
    "B = np.array([1, 2, 3])\n",
    "A[:, np.newaxis]"
   ]
  },
  {
   "cell_type": "code",
   "execution_count": 30,
   "metadata": {},
   "outputs": [
    {
     "data": {
      "text/plain": [
       "array([[10, 20, 30],\n",
       "       [20, 40, 60],\n",
       "       [30, 60, 90]])"
      ]
     },
     "execution_count": 30,
     "metadata": {},
     "output_type": "execute_result"
    }
   ],
   "source": [
    "A[:, np.newaxis] * B"
   ]
  },
  {
   "cell_type": "code",
   "execution_count": 20,
   "metadata": {},
   "outputs": [
    {
     "name": "stdout",
     "output_type": "stream",
     "text": [
      "[[1 2 3]]\n",
      "[[1 2 3]\n",
      " [1 2 3]\n",
      " [1 2 3]]\n",
      "Multiplication: \n",
      "[[11 24 39]\n",
      " [21 44 69]\n",
      " [31 64 99]]\n",
      "... and now addition again: \n",
      "[[12 14 16]\n",
      " [22 24 26]\n",
      " [32 34 36]]\n"
     ]
    }
   ],
   "source": [
    "import numpy as np\n",
    "A = np.array([ [11, 12, 13], [21, 22, 23], [31, 32, 33] ])\n",
    "B = np.array([1, 2, 3])\n",
    "B = B[np.newaxis, :]\n",
    "print(B)\n",
    "B = np.concatenate((B, B, B))\n",
    "print(B)\n",
    "print(\"Multiplication: \")\n",
    "print(A * B)\n",
    "print(\"... and now addition again: \")\n",
    "print(A + B)"
   ]
  },
  {
   "cell_type": "code",
   "execution_count": 22,
   "metadata": {},
   "outputs": [
    {
     "name": "stdout",
     "output_type": "stream",
     "text": [
      "[[1 2 3]\n",
      " [1 2 3]\n",
      " [1 2 3]]\n",
      "Multiplication: \n",
      "[[11 24 39]\n",
      " [21 44 69]\n",
      " [31 64 99]]\n",
      "... and now addition again: \n",
      "[[12 14 16]\n",
      " [22 24 26]\n",
      " [32 34 36]]\n"
     ]
    }
   ],
   "source": [
    "import numpy as np\n",
    "A = np.array([ [11, 12, 13], [21, 22, 23], [31, 32, 33] ])\n",
    "B = np.tile(np.array([1, 2, 3]), (3, 1))\n",
    "print(B)\n",
    "print(\"Multiplication: \")\n",
    "print(A * B)\n",
    "print(\"... and now addition again: \")\n",
    "print(A + B)"
   ]
  },
  {
   "cell_type": "code",
   "execution_count": 1,
   "metadata": {},
   "outputs": [
    {
     "name": "stdout",
     "output_type": "stream",
     "text": [
      "[   0 1498 1063 1968 1498 1758 1469 1472 2230 2391 1138  505]\n",
      "[[   0]\n",
      " [1498]\n",
      " [1063]\n",
      " [1968]\n",
      " [1498]\n",
      " [1758]\n",
      " [1469]\n",
      " [1472]\n",
      " [2230]\n",
      " [2391]\n",
      " [1138]\n",
      " [ 505]]\n",
      "[[   0 1498 1063 1968 1498 1758 1469 1472 2230 2391 1138  505]\n",
      " [1498    0  435  470    0  260   29   26  732  893  360  993]\n",
      " [1063  435    0  905  435  695  406  409 1167 1328   75  558]\n",
      " [1968  470  905    0  470  210  499  496  262  423  830 1463]\n",
      " [1498    0  435  470    0  260   29   26  732  893  360  993]\n",
      " [1758  260  695  210  260    0  289  286  472  633  620 1253]\n",
      " [1469   29  406  499   29  289    0    3  761  922  331  964]\n",
      " [1472   26  409  496   26  286    3    0  758  919  334  967]\n",
      " [2230  732 1167  262  732  472  761  758    0  161 1092 1725]\n",
      " [2391  893 1328  423  893  633  922  919  161    0 1253 1886]\n",
      " [1138  360   75  830  360  620  331  334 1092 1253    0  633]\n",
      " [ 505  993  558 1463  993 1253  964  967 1725 1886  633    0]]\n"
     ]
    }
   ],
   "source": [
    "'''Distance Matrix\n",
    "In mathematics, computer science and especially graph theory, a distance \n",
    "matrix is a matrix or a two-dimensional array, which contains the distances\n",
    "between the elements of a set, pairwise taken. The size of this two-dimensional\n",
    "array in n x n, if the set consists of n elements.\n",
    "\n",
    "A practical example of a distance matrix is a distance matrix between \n",
    "geographic locations, in our example Eurpean cities:'''\n",
    "import numpy as np\n",
    "cities = [\"Barcelona\", \"Berlin\", \"Brussels\", \"Bucharest\",\n",
    "          \"Budapest\", \"Copenhagen\", \"Dublin\", \"Hamburg\", \"Istanbul\",\n",
    "          \"Kiev\", \"London\", \"Madrid\", \"Milan\", \"Moscow\", \"Munich\",\n",
    "          \"Paris\", \"Prague\", \"Rome\", \"Saint Petersburg\", \n",
    "          \"Stockholm\", \"Vienna\", \"Warsaw\"]\n",
    "dist2barcelona = [0,  1498, 1063, 1968, \n",
    "                  1498, 1758, 1469, 1472, 2230, \n",
    "                  2391, 1138, 505, 725, 3007, 1055, \n",
    "                  833, 1354, 857, 2813, \n",
    "                  2277, 1347, 1862]\n",
    "dists =  np.array(dist2barcelona[:12])\n",
    "print(dists)\n",
    "print(dists[:, np.newaxis])\n",
    "print(np.abs(dists - dists[:, np.newaxis]))"
   ]
  },
  {
   "cell_type": "code",
   "execution_count": 34,
   "metadata": {},
   "outputs": [
    {
     "data": {
      "text/plain": [
       "array([[[ 9, 16, 49],\n",
       "        [ 5,  0,  1],\n",
       "        [ 2,  2, 15]],\n",
       "\n",
       "       [[ 3,  0, -7],\n",
       "        [ 8,  0, -4],\n",
       "        [ 5,  4,  3]],\n",
       "\n",
       "       [[ 6,  4, 21],\n",
       "        [ 1,  0, -4],\n",
       "        [ 5, -4, 12]]])"
      ]
     },
     "execution_count": 34,
     "metadata": {},
     "output_type": "execute_result"
    }
   ],
   "source": [
    "'''3-Dimensional Broadcasting'''\n",
    "A = np.array([ [[3, 4, 7], [5, 0, -1] , [2, 1, 5]],\n",
    "      [[1, 0, -1], [8, 2, 4], [5, 2, 1]],\n",
    "      [[2, 1, 3], [1, 9, 4], [5, -2, 4]]])\n",
    "B = np.array([ [[3, 4, 7], [1, 0, -1], [1, 2, 3]] ])\n",
    "B * A"
   ]
  },
  {
   "cell_type": "code",
   "execution_count": 2,
   "metadata": {},
   "outputs": [
    {
     "name": "stdout",
     "output_type": "stream",
     "text": [
      "(3,)\n",
      "[[1]\n",
      " [2]\n",
      " [3]]\n",
      "(3, 1)\n",
      "[[1 2 3 1 2 3 1 2 3]]\n",
      "(1, 9)\n",
      "(1, 1, 9)\n",
      "[[[1 2 3 1 2 3 1 2 3]]]\n"
     ]
    }
   ],
   "source": [
    "import numpy as np\n",
    "B = np.array([1, 2, 3])\n",
    "print(B.shape)\n",
    "B=B[:,np.newaxis]\n",
    "print(B)\n",
    "print(B.shape)\n",
    "B = np.concatenate((B, B, B)).transpose()\n",
    "print(B)\n",
    "print(B.shape)\n",
    "B = B[:, np.newaxis]\n",
    "print(B.shape)\n",
    "print(B)\n"
   ]
  },
  {
   "cell_type": "code",
   "execution_count": 1,
   "metadata": {},
   "outputs": [
    {
     "name": "stdout",
     "output_type": "stream",
     "text": [
      "[ 0  1  2  3  4  5  6  7  8  9 10 11 12 13 14 15 16 17 18 19 20 21 22 23]\n",
      "[ 0  1  2  3  4  5  6  7  8  9 10 11 12 13 14 15 16 17 18 19 20 21 22 23]\n",
      "[ 0  8 16  2 10 18  4 12 20  6 14 22  1  9 17  3 11 19  5 13 21  7 15 23]\n",
      "[ 0  1  2  3  4  5  6  7  8  9 10 11 12 13 14 15 16 17 18 19 20 21 22 23]\n"
     ]
    }
   ],
   "source": [
    "'''Numpy Arrays: Concatenating, Flattening and Adding Dimensions\n",
    "Flatten and Reshape Arrays\n",
    "There are two methods to flatten a multidimensional array:\n",
    "\n",
    "flatten()\n",
    "ravel()\n",
    "flatten\n",
    "flatten is a ndarry method with an optional keyword parameter \"order\". \n",
    "order can have the values \"C\", \"F\" and \"A\". The default of order is \"C\". \n",
    "\"C\" means to flatten C style in row-major ordering, i.e. the rightmost \n",
    "index \"changes the fastest\" or in other words: \n",
    "In row-major order, the row index varies the slowest, and the column index \n",
    "the quickest, so that a[0,1] follows [0,0]. \n",
    "\"F\" stands for Fortran column-major ordering. \"A\" means preserve the the\n",
    "C/Fortran ordering.'''\n",
    "import numpy as np\n",
    "A = np.array([[[ 0,  1],\n",
    "               [ 2,  3],\n",
    "               [ 4,  5],\n",
    "               [ 6,  7]],\n",
    "              [[ 8,  9],\n",
    "               [10, 11],\n",
    "               [12, 13],\n",
    "               [14, 15]],\n",
    "              [[16, 17],\n",
    "               [18, 19],\n",
    "               [20, 21],\n",
    "               [22, 23]]])\n",
    "Flattened_X = A.flatten()\n",
    "print(Flattened_X)\n",
    "print(A.flatten(order=\"C\"))\n",
    "print(A.flatten(order=\"F\"))\n",
    "print(A.flatten(order=\"A\"))"
   ]
  },
  {
   "cell_type": "code",
   "execution_count": 2,
   "metadata": {},
   "outputs": [
    {
     "name": "stdout",
     "output_type": "stream",
     "text": [
      "[ 0  1  2  3  4  5  6  7  8  9 10 11 12 13 14 15 16 17 18 19 20 21 22 23]\n",
      "[ 0  1  2  3  4  5  6  7  8  9 10 11 12 13 14 15 16 17 18 19 20 21 22 23]\n",
      "[ 0  8 16  2 10 18  4 12 20  6 14 22  1  9 17  3 11 19  5 13 21  7 15 23]\n",
      "[ 0  1  2  3  4  5  6  7  8  9 10 11 12 13 14 15 16 17 18 19 20 21 22 23]\n",
      "[ 0  1  2  3  4  5  6  7  8  9 10 11 12 13 14 15 16 17 18 19 20 21 22 23]\n"
     ]
    }
   ],
   "source": [
    "'''\n",
    "ravel\n",
    "The order of the elements in the array returned by ravel() is normally \n",
    "\"C-style\".\n",
    "ravel(a, order='C')\n",
    "ravel returns a flattened one-dimensional array. A copy is made only if needed.\n",
    "The optional keyword parameter \"order\" can be 'C','F', 'A', or 'K'\n",
    "\n",
    "'C': C-like order, with the last axis index changing fastest, back to the \n",
    "first axis index changing slowest. \"C\" is the default!\n",
    "\n",
    "'F': Fortran-like index order with the first index changing fastest, and the last index \n",
    "changing slowest.\n",
    "\n",
    "'A': Fortran-like index order if the array \"a\" is Fortran contiguous in memory, C-like \n",
    "order otherwise.\n",
    "\n",
    "'K': read the elements in the order they occur in memory, except for reversing the data \n",
    "when strides are negative.\n",
    "'''\n",
    "print(A.ravel())\n",
    "print(A.ravel(order=\"A\"))\n",
    "print(A.ravel(order=\"F\"))\n",
    "print(A.ravel(order=\"A\"))\n",
    "print(A.ravel(order=\"K\"))"
   ]
  },
  {
   "cell_type": "code",
   "execution_count": 7,
   "metadata": {},
   "outputs": [
    {
     "name": "stdout",
     "output_type": "stream",
     "text": [
      "[[[ 0  1]\n",
      "  [ 2  3]\n",
      "  [ 4  5]\n",
      "  [ 6  7]]\n",
      "\n",
      " [[ 8  9]\n",
      "  [10 11]\n",
      "  [12 13]\n",
      "  [14 15]]\n",
      "\n",
      " [[16 17]\n",
      "  [18 19]\n",
      "  [20 21]\n",
      "  [22 23]]]\n"
     ]
    }
   ],
   "source": [
    "'''reshape\n",
    "The method reshape() gives a new shape to an array without changing its \n",
    "data, i.e. it returns a new array with a new shape.\n",
    "reshape(a, newshape, order='C')\n",
    "\n",
    "Parameter\tMeaning\n",
    "a\tarray_like, Array to be reshaped.\n",
    "newshape\tint or tuple of ints\n",
    "order\t'C', 'F', 'A', like in flatten or ravel\n",
    "'''\n",
    "X = np.array(range(24))\n",
    "Y = X.reshape((3,4,2))\n",
    "print(Y)"
   ]
  },
  {
   "cell_type": "code",
   "execution_count": 4,
   "metadata": {},
   "outputs": [
    {
     "name": "stdout",
     "output_type": "stream",
     "text": [
      "[11 22 18  7  6  1  3  5]\n"
     ]
    }
   ],
   "source": [
    "'''Concatenating Arrays\n",
    "In the following example we concatenate three one-dimensional arrays to one \n",
    "array. The elements of the second array are appended to the first array. After \n",
    "this the elements of the third array are appended:\n",
    "'''\n",
    "x = np.array([11,22])\n",
    "y = np.array([18,7,6])\n",
    "z = np.array([1,3,5])\n",
    "c = np.concatenate((x,y,z))\n",
    "print(c)"
   ]
  },
  {
   "cell_type": "code",
   "execution_count": 4,
   "metadata": {},
   "outputs": [
    {
     "name": "stdout",
     "output_type": "stream",
     "text": [
      "(6, 4, 2)\n",
      "[[[  0   1]\n",
      "  [  2   3]\n",
      "  [  4   5]\n",
      "  [  6   7]]\n",
      "\n",
      " [[  8   9]\n",
      "  [ 10  11]\n",
      "  [ 12  13]\n",
      "  [ 14  15]]\n",
      "\n",
      " [[ 16  17]\n",
      "  [ 18  19]\n",
      "  [ 20  21]\n",
      "  [ 22  23]]\n",
      "\n",
      " [[100 101]\n",
      "  [102 103]\n",
      "  [104 105]\n",
      "  [106 107]]\n",
      "\n",
      " [[108 109]\n",
      "  [110 111]\n",
      "  [112 113]\n",
      "  [114 115]]\n",
      "\n",
      " [[116 117]\n",
      "  [118 119]\n",
      "  [120 121]\n",
      "  [122 123]]]\n"
     ]
    }
   ],
   "source": [
    "x = np.array(range(24))\n",
    "x = x.reshape((3,4,2))\n",
    "y = np.array(range(100,124))\n",
    "y = y.reshape((3,4,2))\n",
    "z = np.concatenate((x,y))\n",
    "print(z.shape)\n",
    "print(z)"
   ]
  },
  {
   "cell_type": "code",
   "execution_count": 9,
   "metadata": {},
   "outputs": [
    {
     "name": "stdout",
     "output_type": "stream",
     "text": [
      "(3, 4, 4)\n",
      "[[[  0   1 100 101]\n",
      "  [  2   3 102 103]\n",
      "  [  4   5 104 105]\n",
      "  [  6   7 106 107]]\n",
      "\n",
      " [[  8   9 108 109]\n",
      "  [ 10  11 110 111]\n",
      "  [ 12  13 112 113]\n",
      "  [ 14  15 114 115]]\n",
      "\n",
      " [[ 16  17 116 117]\n",
      "  [ 18  19 118 119]\n",
      "  [ 20  21 120 121]\n",
      "  [ 22  23 122 123]]]\n"
     ]
    }
   ],
   "source": [
    "z = np.concatenate((x,y),axis = 2)\n",
    "print(z.shape)\n",
    "print(z)"
   ]
  },
  {
   "cell_type": "code",
   "execution_count": 7,
   "metadata": {},
   "outputs": [
    {
     "name": "stdout",
     "output_type": "stream",
     "text": [
      "[[ 2]\n",
      " [ 5]\n",
      " [18]\n",
      " [14]\n",
      " [ 4]]\n"
     ]
    }
   ],
   "source": [
    "'''Adding New Dimensions\n",
    "New dimensions can be added to an array by using slicing and np.newaxis. \n",
    "We illustrate this technique with an example:'''\n",
    "\n",
    "x = np.array([2,5,18,14,4])\n",
    "y = x[:, np.newaxis]\n",
    "print(y)"
   ]
  },
  {
   "cell_type": "code",
   "execution_count": 9,
   "metadata": {},
   "outputs": [
    {
     "name": "stdout",
     "output_type": "stream",
     "text": [
      "[[3 4 5]\n",
      " [1 9 0]]\n",
      "[[3 1]\n",
      " [4 9]\n",
      " [5 0]]\n"
     ]
    },
    {
     "data": {
      "text/plain": [
       "(3,)"
      ]
     },
     "execution_count": 9,
     "metadata": {},
     "output_type": "execute_result"
    }
   ],
   "source": [
    "'''Vector Stacking'''\n",
    "A = np.array([3, 4, 5])\n",
    "B = np.array([1,9,0])\n",
    "print(np.row_stack((A, B)))\n",
    "print(np.column_stack((A, B)))\n",
    "np.shape(A)"
   ]
  },
  {
   "cell_type": "code",
   "execution_count": 11,
   "metadata": {},
   "outputs": [
    {
     "data": {
      "text/plain": [
       "array([[3, 4, 5, 3, 4, 5, 3, 4, 5],\n",
       "       [1, 9, 0, 1, 9, 0, 1, 9, 0],\n",
       "       [4, 6, 8, 4, 6, 8, 4, 6, 8]])"
      ]
     },
     "execution_count": 11,
     "metadata": {},
     "output_type": "execute_result"
    }
   ],
   "source": [
    "A = np.array([[3, 4, 5],\n",
    "              [1, 9, 0],\n",
    "              [4, 6, 8]])\n",
    "np.column_stack((A, A, A))"
   ]
  },
  {
   "cell_type": "code",
   "execution_count": 12,
   "metadata": {},
   "outputs": [
    {
     "data": {
      "text/plain": [
       "array([[3, 3, 3],\n",
       "       [4, 4, 4],\n",
       "       [5, 5, 5]])"
      ]
     },
     "execution_count": 12,
     "metadata": {},
     "output_type": "execute_result"
    }
   ],
   "source": [
    "np.column_stack((A[0], A[0], A[0]))"
   ]
  },
  {
   "cell_type": "code",
   "execution_count": 13,
   "metadata": {},
   "outputs": [
    {
     "data": {
      "text/plain": [
       "array([[[3, 3, 3],\n",
       "        [4, 4, 4],\n",
       "        [5, 5, 5]],\n",
       "\n",
       "       [[1, 1, 1],\n",
       "        [9, 9, 9],\n",
       "        [0, 0, 0]],\n",
       "\n",
       "       [[4, 4, 4],\n",
       "        [6, 6, 6],\n",
       "        [8, 8, 8]]])"
      ]
     },
     "execution_count": 13,
     "metadata": {},
     "output_type": "execute_result"
    }
   ],
   "source": [
    "np.dstack((A, A, A))"
   ]
  },
  {
   "cell_type": "code",
   "execution_count": 14,
   "metadata": {},
   "outputs": [
    {
     "data": {
      "text/plain": [
       "array([[1, 2, 1, 2, 1, 2, 1, 2],\n",
       "       [3, 4, 3, 4, 3, 4, 3, 4],\n",
       "       [1, 2, 1, 2, 1, 2, 1, 2],\n",
       "       [3, 4, 3, 4, 3, 4, 3, 4],\n",
       "       [1, 2, 1, 2, 1, 2, 1, 2],\n",
       "       [3, 4, 3, 4, 3, 4, 3, 4]])"
      ]
     },
     "execution_count": 14,
     "metadata": {},
     "output_type": "execute_result"
    }
   ],
   "source": [
    "'''Repeating Patterns, The \"tile\" Method\n",
    "Sometimes, you want to or have to create a new matrix by repeating an existing matrix \n",
    "multiple times to create a new matrix with a different shape or even dimension. \n",
    "You may have for example a one-dimensional array array([ 3.4]) and you want to turn \n",
    "it into an array array([ 3.4, 3.4, 3.4, 3.4, 3.4])\n",
    "In another usecase you may have a two-dimensional array like \n",
    "np.array([ [1, 2], [3, 4]]), which you intend to use as a building \n",
    "block to construe the array with the shape (6, 8):\n",
    "'''\n",
    "import numpy as np\n",
    "x = np.array([ [1, 2], [3, 4]])\n",
    "np.tile(x, (3,4))"
   ]
  },
  {
   "cell_type": "code",
   "execution_count": 15,
   "metadata": {},
   "outputs": [
    {
     "name": "stdout",
     "output_type": "stream",
     "text": [
      "[3.4 3.4 3.4 3.4 3.4]\n"
     ]
    }
   ],
   "source": [
    "import numpy as np\n",
    "x = np.array([ 3.4])\n",
    "y = np.tile(x, (5,)) \n",
    "print(y)"
   ]
  },
  {
   "cell_type": "code",
   "execution_count": 15,
   "metadata": {},
   "outputs": [
    {
     "name": "stdout",
     "output_type": "stream",
     "text": [
      "[[1 2 1 2]\n",
      " [3 4 3 4]]\n"
     ]
    }
   ],
   "source": [
    "import numpy as np\n",
    "x = np.array([[1, 2], [3, 4]])\n",
    "print(np.tile(x,2))"
   ]
  },
  {
   "cell_type": "code",
   "execution_count": 17,
   "metadata": {},
   "outputs": [
    {
     "name": "stdout",
     "output_type": "stream",
     "text": [
      "[[1 2]\n",
      " [3 4]\n",
      " [1 2]\n",
      " [3 4]]\n"
     ]
    }
   ],
   "source": [
    "import numpy as np\n",
    "x = np.array([[1, 2], [3, 4]])\n",
    "print(np.tile(x, (2, 1)))"
   ]
  },
  {
   "cell_type": "code",
   "execution_count": 18,
   "metadata": {},
   "outputs": [
    {
     "name": "stdout",
     "output_type": "stream",
     "text": [
      "[[1 2 1 2]\n",
      " [3 4 3 4]\n",
      " [1 2 1 2]\n",
      " [3 4 3 4]]\n"
     ]
    }
   ],
   "source": [
    "import numpy as np\n",
    "x = np.array([[1, 2], [3, 4]])\n",
    "print(np.tile(x, (2, 2)))"
   ]
  },
  {
   "cell_type": "code",
   "execution_count": null,
   "metadata": {},
   "outputs": [],
   "source": [
    "'''Python, Random Numbers and Probability\n",
    "'''"
   ]
  }
 ],
 "metadata": {
  "kernelspec": {
   "display_name": "Python 3",
   "language": "python",
   "name": "python3"
  },
  "language_info": {
   "codemirror_mode": {
    "name": "ipython",
    "version": 3
   },
   "file_extension": ".py",
   "mimetype": "text/x-python",
   "name": "python",
   "nbconvert_exporter": "python",
   "pygments_lexer": "ipython3",
   "version": "3.6.7"
  }
 },
 "nbformat": 4,
 "nbformat_minor": 2
}
